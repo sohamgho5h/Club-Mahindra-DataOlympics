{
 "cells": [
  {
   "cell_type": "code",
   "execution_count": 2,
   "metadata": {},
   "outputs": [],
   "source": [
    "import lightgbm as lgb\n",
    "import pandas as pd\n",
    "import numpy as np\n",
    "from datetime import datetime\n",
    "from pathlib import Path\n",
    "from sklearn.model_selection import StratifiedKFold\n",
    "from sklearn.model_selection import RepeatedStratifiedKFold, KFold"
   ]
  },
  {
   "cell_type": "code",
   "execution_count": 3,
   "metadata": {},
   "outputs": [],
   "source": [
    "import re"
   ]
  },
  {
   "cell_type": "code",
   "execution_count": 4,
   "metadata": {},
   "outputs": [],
   "source": [
    "import functools"
   ]
  },
  {
   "cell_type": "code",
   "execution_count": 5,
   "metadata": {},
   "outputs": [],
   "source": [
    "import matplotlib.pyplot as plt\n",
    "import seaborn as sns\n",
    "%matplotlib inline\n",
    "sns.set(style=\"darkgrid\")"
   ]
  },
  {
   "cell_type": "code",
   "execution_count": 6,
   "metadata": {},
   "outputs": [],
   "source": [
    "from sklearn.metrics import mean_squared_error"
   ]
  },
  {
   "cell_type": "code",
   "execution_count": 7,
   "metadata": {},
   "outputs": [],
   "source": [
    "train_df = pd.read_csv('train.csv')\n",
    "test_df = pd.read_csv('test.csv')"
   ]
  },
  {
   "cell_type": "code",
   "execution_count": 8,
   "metadata": {},
   "outputs": [
    {
     "data": {
      "text/html": [
       "<div>\n",
       "<style scoped>\n",
       "    .dataframe tbody tr th:only-of-type {\n",
       "        vertical-align: middle;\n",
       "    }\n",
       "\n",
       "    .dataframe tbody tr th {\n",
       "        vertical-align: top;\n",
       "    }\n",
       "\n",
       "    .dataframe thead th {\n",
       "        text-align: right;\n",
       "    }\n",
       "</style>\n",
       "<table border=\"1\" class=\"dataframe\">\n",
       "  <thead>\n",
       "    <tr style=\"text-align: right;\">\n",
       "      <th></th>\n",
       "      <th>Variable</th>\n",
       "      <th>Description</th>\n",
       "    </tr>\n",
       "  </thead>\n",
       "  <tbody>\n",
       "    <tr>\n",
       "      <th>0</th>\n",
       "      <td>reservation_id</td>\n",
       "      <td>Reservation ID</td>\n",
       "    </tr>\n",
       "    <tr>\n",
       "      <th>1</th>\n",
       "      <td>booking_date</td>\n",
       "      <td>Date of booking</td>\n",
       "    </tr>\n",
       "    <tr>\n",
       "      <th>2</th>\n",
       "      <td>checkin_date</td>\n",
       "      <td>Checkin date recorded at the time of booking</td>\n",
       "    </tr>\n",
       "    <tr>\n",
       "      <th>3</th>\n",
       "      <td>checkout_date</td>\n",
       "      <td>Checkout date recorded at the time of booking</td>\n",
       "    </tr>\n",
       "    <tr>\n",
       "      <th>4</th>\n",
       "      <td>channel_code</td>\n",
       "      <td>Different channels of booking</td>\n",
       "    </tr>\n",
       "    <tr>\n",
       "      <th>5</th>\n",
       "      <td>main_product_code</td>\n",
       "      <td>Type of product a member has purchased</td>\n",
       "    </tr>\n",
       "    <tr>\n",
       "      <th>6</th>\n",
       "      <td>numberofadults</td>\n",
       "      <td>Number of adults travelling</td>\n",
       "    </tr>\n",
       "    <tr>\n",
       "      <th>7</th>\n",
       "      <td>numberofchildren</td>\n",
       "      <td>Number of children travelling</td>\n",
       "    </tr>\n",
       "    <tr>\n",
       "      <th>8</th>\n",
       "      <td>persontravellingid</td>\n",
       "      <td>Type of person travelling</td>\n",
       "    </tr>\n",
       "    <tr>\n",
       "      <th>9</th>\n",
       "      <td>resort_region_code</td>\n",
       "      <td>Resort Region</td>\n",
       "    </tr>\n",
       "    <tr>\n",
       "      <th>10</th>\n",
       "      <td>resort_type_code</td>\n",
       "      <td>Resort Type</td>\n",
       "    </tr>\n",
       "    <tr>\n",
       "      <th>11</th>\n",
       "      <td>room_type_booked_code</td>\n",
       "      <td>Room Type</td>\n",
       "    </tr>\n",
       "    <tr>\n",
       "      <th>12</th>\n",
       "      <td>roomnights</td>\n",
       "      <td>Number of roomnights booked</td>\n",
       "    </tr>\n",
       "    <tr>\n",
       "      <th>13</th>\n",
       "      <td>season_holidayed_code</td>\n",
       "      <td>Season Holidayed</td>\n",
       "    </tr>\n",
       "    <tr>\n",
       "      <th>14</th>\n",
       "      <td>state_code_residence</td>\n",
       "      <td>Residence State of Member</td>\n",
       "    </tr>\n",
       "    <tr>\n",
       "      <th>15</th>\n",
       "      <td>state_code_resort</td>\n",
       "      <td>State in which resort is located</td>\n",
       "    </tr>\n",
       "    <tr>\n",
       "      <th>16</th>\n",
       "      <td>total_pax</td>\n",
       "      <td>Total persons travelling</td>\n",
       "    </tr>\n",
       "    <tr>\n",
       "      <th>17</th>\n",
       "      <td>member_age_buckets</td>\n",
       "      <td>Age bucket of the member</td>\n",
       "    </tr>\n",
       "    <tr>\n",
       "      <th>18</th>\n",
       "      <td>booking_type_code</td>\n",
       "      <td>Type of Booking</td>\n",
       "    </tr>\n",
       "    <tr>\n",
       "      <th>19</th>\n",
       "      <td>memberid</td>\n",
       "      <td>Unique ID of the member</td>\n",
       "    </tr>\n",
       "    <tr>\n",
       "      <th>20</th>\n",
       "      <td>cluster_code</td>\n",
       "      <td>Cluster Code of Resort</td>\n",
       "    </tr>\n",
       "    <tr>\n",
       "      <th>21</th>\n",
       "      <td>reservationstatusid_code</td>\n",
       "      <td>Reservation Status ID</td>\n",
       "    </tr>\n",
       "    <tr>\n",
       "      <th>22</th>\n",
       "      <td>resort_id</td>\n",
       "      <td>Unique Resort ID</td>\n",
       "    </tr>\n",
       "    <tr>\n",
       "      <th>23</th>\n",
       "      <td>amount_spent_per_room_night_scaled</td>\n",
       "      <td>(Target) Resort Spend Per Room Night</td>\n",
       "    </tr>\n",
       "  </tbody>\n",
       "</table>\n",
       "</div>"
      ],
      "text/plain": [
       "                              Variable  \\\n",
       "0                       reservation_id   \n",
       "1                         booking_date   \n",
       "2                         checkin_date   \n",
       "3                        checkout_date   \n",
       "4                         channel_code   \n",
       "5                    main_product_code   \n",
       "6                       numberofadults   \n",
       "7                     numberofchildren   \n",
       "8                   persontravellingid   \n",
       "9                   resort_region_code   \n",
       "10                    resort_type_code   \n",
       "11               room_type_booked_code   \n",
       "12                          roomnights   \n",
       "13               season_holidayed_code   \n",
       "14                state_code_residence   \n",
       "15                   state_code_resort   \n",
       "16                           total_pax   \n",
       "17                  member_age_buckets   \n",
       "18                   booking_type_code   \n",
       "19                            memberid   \n",
       "20                        cluster_code   \n",
       "21            reservationstatusid_code   \n",
       "22                           resort_id   \n",
       "23  amount_spent_per_room_night_scaled   \n",
       "\n",
       "                                      Description  \n",
       "0                                  Reservation ID  \n",
       "1                                 Date of booking  \n",
       "2    Checkin date recorded at the time of booking  \n",
       "3   Checkout date recorded at the time of booking  \n",
       "4                   Different channels of booking  \n",
       "5          Type of product a member has purchased  \n",
       "6                     Number of adults travelling  \n",
       "7                   Number of children travelling  \n",
       "8                       Type of person travelling  \n",
       "9                                   Resort Region  \n",
       "10                                    Resort Type  \n",
       "11                                      Room Type  \n",
       "12                    Number of roomnights booked  \n",
       "13                               Season Holidayed  \n",
       "14                      Residence State of Member  \n",
       "15               State in which resort is located  \n",
       "16                       Total persons travelling  \n",
       "17                       Age bucket of the member  \n",
       "18                                Type of Booking  \n",
       "19                        Unique ID of the member  \n",
       "20                         Cluster Code of Resort  \n",
       "21                          Reservation Status ID  \n",
       "22                               Unique Resort ID  \n",
       "23           (Target) Resort Spend Per Room Night  "
      ]
     },
     "execution_count": 8,
     "metadata": {},
     "output_type": "execute_result"
    }
   ],
   "source": [
    "data_dict = pd.read_excel('Data_Dictionary.xlsx')\n",
    "data_dict"
   ]
  },
  {
   "cell_type": "code",
   "execution_count": 9,
   "metadata": {},
   "outputs": [],
   "source": [
    "target = 'amount_spent_per_room_night_scaled'"
   ]
  },
  {
   "cell_type": "markdown",
   "metadata": {},
   "source": [
    "## Preprocessing"
   ]
  },
  {
   "cell_type": "code",
   "execution_count": 10,
   "metadata": {},
   "outputs": [],
   "source": [
    "test_df[target] = [-1]*len(test_df)"
   ]
  },
  {
   "cell_type": "code",
   "execution_count": 11,
   "metadata": {},
   "outputs": [],
   "source": [
    "joined = pd.concat([train_df, test_df], axis = 0)"
   ]
  },
  {
   "cell_type": "code",
   "execution_count": 12,
   "metadata": {},
   "outputs": [],
   "source": [
    "date_time_att = train_df.columns[1:4].values"
   ]
  },
  {
   "cell_type": "code",
   "execution_count": 13,
   "metadata": {},
   "outputs": [],
   "source": [
    "def add_datepart(df, fldname, drop=True, time=False, errors=\"raise\"):\t\n",
    "    fld = df[fldname]\n",
    "    fld_dtype = fld.dtype\n",
    "    if isinstance(fld_dtype, pd.core.dtypes.dtypes.DatetimeTZDtype):\n",
    "        fld_dtype = np.datetime64\n",
    "\n",
    "    if not np.issubdtype(fld_dtype, np.datetime64):\n",
    "        df[fldname] = fld = pd.to_datetime(fld, infer_datetime_format=True, errors=errors)\n",
    "    targ_pre = re.sub('[Dd]ate$', '', fldname)\n",
    "    attr = ['Year', 'Month', 'Week', 'Day', 'Dayofweek', 'Dayofyear',\n",
    "            'Is_month_end', 'Is_month_start', 'Is_quarter_end', 'Is_quarter_start', 'Is_year_end', 'Is_year_start']\n",
    "    if time: attr = attr + ['Hour', 'Minute', 'Second']\n",
    "    for n in attr: df[targ_pre + n] = getattr(fld.dt, n.lower())\n",
    "    df[targ_pre + 'Elapsed'] = fld.astype(np.int64) // 10 ** 9\n",
    "    if drop: df.drop(fldname, axis=1, inplace=True)"
   ]
  },
  {
   "cell_type": "code",
   "execution_count": 14,
   "metadata": {},
   "outputs": [],
   "source": [
    "joined[date_time_att] = joined[date_time_att].apply(pd.to_datetime)\n",
    "#.dt.year.apply(lambda x: x if x<2010 else x - 100).apply(int)"
   ]
  },
  {
   "cell_type": "code",
   "execution_count": 15,
   "metadata": {},
   "outputs": [],
   "source": [
    "for c in date_time_att:\n",
    "    add_datepart(joined, fldname=c, drop = True)"
   ]
  },
  {
   "cell_type": "code",
   "execution_count": 16,
   "metadata": {},
   "outputs": [],
   "source": [
    "joined = joined.fillna(-1)"
   ]
  },
  {
   "cell_type": "code",
   "execution_count": 17,
   "metadata": {},
   "outputs": [],
   "source": [
    "check1 = joined.copy()"
   ]
  },
  {
   "cell_type": "code",
   "execution_count": 104,
   "metadata": {},
   "outputs": [],
   "source": [
    "joined = check1.copy()"
   ]
  },
  {
   "cell_type": "code",
   "execution_count": 105,
   "metadata": {},
   "outputs": [],
   "source": [
    "ind = 'reservation_id'"
   ]
  },
  {
   "cell_type": "code",
   "execution_count": 106,
   "metadata": {},
   "outputs": [],
   "source": [
    "joined = joined.drop(ind, axis = 1)"
   ]
  },
  {
   "cell_type": "code",
   "execution_count": 92,
   "metadata": {},
   "outputs": [],
   "source": [
    "from sklearn.preprocessing import OrdinalEncoder\n",
    "categories = ['cluster_code', 'reservationstatusid_code', 'member_age_buckets']\n",
    "enc = OrdinalEncoder()\n",
    "enc.fit(joined[categories])\n",
    "\n",
    "joined[categories] = enc.transform(joined[categories])\n",
    "\n",
    "for c in categories:\n",
    "    joined[c] = pd.to_numeric(joined[c], downcast='signed')"
   ]
  },
  {
   "cell_type": "code",
   "execution_count": 107,
   "metadata": {},
   "outputs": [
    {
     "data": {
      "text/html": [
       "<div>\n",
       "<style scoped>\n",
       "    .dataframe tbody tr th:only-of-type {\n",
       "        vertical-align: middle;\n",
       "    }\n",
       "\n",
       "    .dataframe tbody tr th {\n",
       "        vertical-align: top;\n",
       "    }\n",
       "\n",
       "    .dataframe thead th {\n",
       "        text-align: right;\n",
       "    }\n",
       "</style>\n",
       "<table border=\"1\" class=\"dataframe\">\n",
       "  <thead>\n",
       "    <tr style=\"text-align: right;\">\n",
       "      <th></th>\n",
       "      <th>channel_code</th>\n",
       "      <th>main_product_code</th>\n",
       "      <th>numberofadults</th>\n",
       "      <th>numberofchildren</th>\n",
       "      <th>persontravellingid</th>\n",
       "      <th>resort_region_code</th>\n",
       "      <th>resort_type_code</th>\n",
       "      <th>room_type_booked_code</th>\n",
       "      <th>roomnights</th>\n",
       "      <th>season_holidayed_code</th>\n",
       "      <th>...</th>\n",
       "      <th>checkout_Day</th>\n",
       "      <th>checkout_Dayofweek</th>\n",
       "      <th>checkout_Dayofyear</th>\n",
       "      <th>checkout_Is_month_end</th>\n",
       "      <th>checkout_Is_month_start</th>\n",
       "      <th>checkout_Is_quarter_end</th>\n",
       "      <th>checkout_Is_quarter_start</th>\n",
       "      <th>checkout_Is_year_end</th>\n",
       "      <th>checkout_Is_year_start</th>\n",
       "      <th>checkout_Elapsed</th>\n",
       "    </tr>\n",
       "  </thead>\n",
       "  <tbody>\n",
       "    <tr>\n",
       "      <th>0</th>\n",
       "      <td>3</td>\n",
       "      <td>1</td>\n",
       "      <td>2</td>\n",
       "      <td>0</td>\n",
       "      <td>46</td>\n",
       "      <td>3</td>\n",
       "      <td>3</td>\n",
       "      <td>3</td>\n",
       "      <td>1</td>\n",
       "      <td>2.0</td>\n",
       "      <td>...</td>\n",
       "      <td>4</td>\n",
       "      <td>0</td>\n",
       "      <td>155</td>\n",
       "      <td>False</td>\n",
       "      <td>False</td>\n",
       "      <td>False</td>\n",
       "      <td>False</td>\n",
       "      <td>False</td>\n",
       "      <td>False</td>\n",
       "      <td>1528070400</td>\n",
       "    </tr>\n",
       "    <tr>\n",
       "      <th>1</th>\n",
       "      <td>1</td>\n",
       "      <td>1</td>\n",
       "      <td>2</td>\n",
       "      <td>0</td>\n",
       "      <td>46</td>\n",
       "      <td>3</td>\n",
       "      <td>3</td>\n",
       "      <td>4</td>\n",
       "      <td>5</td>\n",
       "      <td>2.0</td>\n",
       "      <td>...</td>\n",
       "      <td>16</td>\n",
       "      <td>3</td>\n",
       "      <td>106</td>\n",
       "      <td>False</td>\n",
       "      <td>False</td>\n",
       "      <td>False</td>\n",
       "      <td>False</td>\n",
       "      <td>False</td>\n",
       "      <td>False</td>\n",
       "      <td>1429142400</td>\n",
       "    </tr>\n",
       "    <tr>\n",
       "      <th>2</th>\n",
       "      <td>1</td>\n",
       "      <td>1</td>\n",
       "      <td>2</td>\n",
       "      <td>0</td>\n",
       "      <td>47</td>\n",
       "      <td>1</td>\n",
       "      <td>5</td>\n",
       "      <td>4</td>\n",
       "      <td>4</td>\n",
       "      <td>2.0</td>\n",
       "      <td>...</td>\n",
       "      <td>2</td>\n",
       "      <td>5</td>\n",
       "      <td>122</td>\n",
       "      <td>False</td>\n",
       "      <td>False</td>\n",
       "      <td>False</td>\n",
       "      <td>False</td>\n",
       "      <td>False</td>\n",
       "      <td>False</td>\n",
       "      <td>1430524800</td>\n",
       "    </tr>\n",
       "    <tr>\n",
       "      <th>3</th>\n",
       "      <td>1</td>\n",
       "      <td>1</td>\n",
       "      <td>2</td>\n",
       "      <td>2</td>\n",
       "      <td>46</td>\n",
       "      <td>2</td>\n",
       "      <td>2</td>\n",
       "      <td>3</td>\n",
       "      <td>5</td>\n",
       "      <td>2.0</td>\n",
       "      <td>...</td>\n",
       "      <td>16</td>\n",
       "      <td>1</td>\n",
       "      <td>167</td>\n",
       "      <td>False</td>\n",
       "      <td>False</td>\n",
       "      <td>False</td>\n",
       "      <td>False</td>\n",
       "      <td>False</td>\n",
       "      <td>False</td>\n",
       "      <td>1434412800</td>\n",
       "    </tr>\n",
       "    <tr>\n",
       "      <th>4</th>\n",
       "      <td>1</td>\n",
       "      <td>1</td>\n",
       "      <td>2</td>\n",
       "      <td>0</td>\n",
       "      <td>46</td>\n",
       "      <td>2</td>\n",
       "      <td>2</td>\n",
       "      <td>4</td>\n",
       "      <td>5</td>\n",
       "      <td>2.0</td>\n",
       "      <td>...</td>\n",
       "      <td>19</td>\n",
       "      <td>5</td>\n",
       "      <td>353</td>\n",
       "      <td>False</td>\n",
       "      <td>False</td>\n",
       "      <td>False</td>\n",
       "      <td>False</td>\n",
       "      <td>False</td>\n",
       "      <td>False</td>\n",
       "      <td>1450483200</td>\n",
       "    </tr>\n",
       "  </tbody>\n",
       "</table>\n",
       "<p>5 rows × 59 columns</p>\n",
       "</div>"
      ],
      "text/plain": [
       "   channel_code  main_product_code  numberofadults  numberofchildren  \\\n",
       "0             3                  1               2                 0   \n",
       "1             1                  1               2                 0   \n",
       "2             1                  1               2                 0   \n",
       "3             1                  1               2                 2   \n",
       "4             1                  1               2                 0   \n",
       "\n",
       "   persontravellingid  resort_region_code  resort_type_code  \\\n",
       "0                  46                   3                 3   \n",
       "1                  46                   3                 3   \n",
       "2                  47                   1                 5   \n",
       "3                  46                   2                 2   \n",
       "4                  46                   2                 2   \n",
       "\n",
       "   room_type_booked_code  roomnights  season_holidayed_code        ...         \\\n",
       "0                      3           1                    2.0        ...          \n",
       "1                      4           5                    2.0        ...          \n",
       "2                      4           4                    2.0        ...          \n",
       "3                      3           5                    2.0        ...          \n",
       "4                      4           5                    2.0        ...          \n",
       "\n",
       "   checkout_Day  checkout_Dayofweek  checkout_Dayofyear checkout_Is_month_end  \\\n",
       "0             4                   0                 155                 False   \n",
       "1            16                   3                 106                 False   \n",
       "2             2                   5                 122                 False   \n",
       "3            16                   1                 167                 False   \n",
       "4            19                   5                 353                 False   \n",
       "\n",
       "   checkout_Is_month_start checkout_Is_quarter_end checkout_Is_quarter_start  \\\n",
       "0                    False                   False                     False   \n",
       "1                    False                   False                     False   \n",
       "2                    False                   False                     False   \n",
       "3                    False                   False                     False   \n",
       "4                    False                   False                     False   \n",
       "\n",
       "  checkout_Is_year_end checkout_Is_year_start  checkout_Elapsed  \n",
       "0                False                  False        1528070400  \n",
       "1                False                  False        1429142400  \n",
       "2                False                  False        1430524800  \n",
       "3                False                  False        1434412800  \n",
       "4                False                  False        1450483200  \n",
       "\n",
       "[5 rows x 59 columns]"
      ]
     },
     "execution_count": 107,
     "metadata": {},
     "output_type": "execute_result"
    }
   ],
   "source": [
    "joined.head()"
   ]
  },
  {
   "cell_type": "markdown",
   "metadata": {},
   "source": [
    "## FEATURE ENGINEERING"
   ]
  },
  {
   "cell_type": "code",
   "execution_count": 108,
   "metadata": {},
   "outputs": [],
   "source": [
    "for col in joined.drop(target, axis = 1).columns:\n",
    "    joined[col+'_counts'] = joined[col].map(joined[col].value_counts())  "
   ]
  },
  {
   "cell_type": "code",
   "execution_count": 109,
   "metadata": {},
   "outputs": [],
   "source": [
    "vert_ag = ['channel_code', 'main_product_code',  'persontravellingid', 'resort_region_code',\n",
    "       'resort_type_code', 'room_type_booked_code', \n",
    "       'season_holidayed_code', 'state_code_residence',\n",
    "       'state_code_resort',  'member_age_buckets',\n",
    "       'booking_type_code', 'memberid', 'cluster_code',\n",
    "       'reservationstatusid_code', 'resort_id']\n",
    "\n",
    "num_col = ['numberofadults','numberofchildren', 'roomnights','total_pax']"
   ]
  },
  {
   "cell_type": "code",
   "execution_count": 110,
   "metadata": {},
   "outputs": [],
   "source": [
    "for m in vert_ag:\n",
    "    temp = joined.groupby(m, as_index = False).agg({n: ['mean', 'std', 'sum'] for n in num_col})\n",
    "    temp.columns = [i + j for (i, j) in zip(temp.columns.get_level_values(0), temp.columns.get_level_values(1))]\n",
    "    joined = joined.merge(temp, how = 'left' , on=m)"
   ]
  },
  {
   "cell_type": "code",
   "execution_count": 111,
   "metadata": {},
   "outputs": [],
   "source": [
    "# Feature ENGG on numerical\n",
    "\n",
    "features = num_col\n",
    "\n",
    "def feat_augment_df(df):\n",
    "    for feature in features:\n",
    "        df[f'sq_{feature}'] = df[feature]**2\n",
    "        df[f'repo_{feature}'] = df[feature].apply(lambda x: 0 if x==0 else 1/x)\n",
    "    df['min'] = df[features].min(axis=1)\n",
    "    df['mean'] = df[features].mean(axis=1)\n",
    "    df['max'] = df[features].max(axis=1)\n",
    "    df['median'] = df[features].median(axis=1)\n",
    "    df['std'] = df[features].std(axis=1)\n",
    "    df['var'] = df[features].var(axis=1)\n",
    "    df['abs_mean'] = df[features].abs().mean(axis=1)\n",
    "    df['abs_median'] = df[features].abs().median(axis=1)\n",
    "    df['abs_std'] = df[features].abs().std(axis=1)\n",
    "    df['skew'] = df[features].skew(axis=1)\n",
    "    df['kurt'] = df[features].kurt(axis=1)\n",
    "    df['sq_kurt'] = df[[f'sq_{feature}' for feature in features]].kurt(axis=1)"
   ]
  },
  {
   "cell_type": "code",
   "execution_count": 112,
   "metadata": {},
   "outputs": [],
   "source": [
    "feat_augment_df(joined)"
   ]
  },
  {
   "cell_type": "code",
   "execution_count": 113,
   "metadata": {},
   "outputs": [],
   "source": [
    "for i in num_col:\n",
    "    for j in num_col:\n",
    "        if i != j:\n",
    "            joined[i+'-'+j] = joined[i] - joined[j]\n",
    "            joined[i+'+'+j] = joined[i] + joined[j]\n",
    "            joined[i+'*'+j] = joined[i] * joined[j]\n",
    "            joined[i+'/'+j] = joined[i] * joined['repo_'+j]        "
   ]
  },
  {
   "cell_type": "code",
   "execution_count": 114,
   "metadata": {},
   "outputs": [
    {
     "data": {
      "text/html": [
       "<div>\n",
       "<style scoped>\n",
       "    .dataframe tbody tr th:only-of-type {\n",
       "        vertical-align: middle;\n",
       "    }\n",
       "\n",
       "    .dataframe tbody tr th {\n",
       "        vertical-align: top;\n",
       "    }\n",
       "\n",
       "    .dataframe thead th {\n",
       "        text-align: right;\n",
       "    }\n",
       "</style>\n",
       "<table border=\"1\" class=\"dataframe\">\n",
       "  <thead>\n",
       "    <tr style=\"text-align: right;\">\n",
       "      <th></th>\n",
       "      <th>channel_code</th>\n",
       "      <th>main_product_code</th>\n",
       "      <th>numberofadults</th>\n",
       "      <th>numberofchildren</th>\n",
       "      <th>persontravellingid</th>\n",
       "      <th>resort_region_code</th>\n",
       "      <th>resort_type_code</th>\n",
       "      <th>room_type_booked_code</th>\n",
       "      <th>roomnights</th>\n",
       "      <th>season_holidayed_code</th>\n",
       "      <th>...</th>\n",
       "      <th>total_pax*numberofadults</th>\n",
       "      <th>total_pax/numberofadults</th>\n",
       "      <th>total_pax-numberofchildren</th>\n",
       "      <th>total_pax+numberofchildren</th>\n",
       "      <th>total_pax*numberofchildren</th>\n",
       "      <th>total_pax/numberofchildren</th>\n",
       "      <th>total_pax-roomnights</th>\n",
       "      <th>total_pax+roomnights</th>\n",
       "      <th>total_pax*roomnights</th>\n",
       "      <th>total_pax/roomnights</th>\n",
       "    </tr>\n",
       "  </thead>\n",
       "  <tbody>\n",
       "    <tr>\n",
       "      <th>0</th>\n",
       "      <td>3</td>\n",
       "      <td>1</td>\n",
       "      <td>2</td>\n",
       "      <td>0</td>\n",
       "      <td>46</td>\n",
       "      <td>3</td>\n",
       "      <td>3</td>\n",
       "      <td>3</td>\n",
       "      <td>1</td>\n",
       "      <td>2.0</td>\n",
       "      <td>...</td>\n",
       "      <td>6</td>\n",
       "      <td>1.5</td>\n",
       "      <td>3</td>\n",
       "      <td>3</td>\n",
       "      <td>0</td>\n",
       "      <td>0.0</td>\n",
       "      <td>2</td>\n",
       "      <td>4</td>\n",
       "      <td>3</td>\n",
       "      <td>3.0</td>\n",
       "    </tr>\n",
       "    <tr>\n",
       "      <th>1</th>\n",
       "      <td>1</td>\n",
       "      <td>1</td>\n",
       "      <td>2</td>\n",
       "      <td>0</td>\n",
       "      <td>46</td>\n",
       "      <td>3</td>\n",
       "      <td>3</td>\n",
       "      <td>4</td>\n",
       "      <td>5</td>\n",
       "      <td>2.0</td>\n",
       "      <td>...</td>\n",
       "      <td>4</td>\n",
       "      <td>1.0</td>\n",
       "      <td>2</td>\n",
       "      <td>2</td>\n",
       "      <td>0</td>\n",
       "      <td>0.0</td>\n",
       "      <td>-3</td>\n",
       "      <td>7</td>\n",
       "      <td>10</td>\n",
       "      <td>0.4</td>\n",
       "    </tr>\n",
       "    <tr>\n",
       "      <th>2</th>\n",
       "      <td>1</td>\n",
       "      <td>1</td>\n",
       "      <td>2</td>\n",
       "      <td>0</td>\n",
       "      <td>47</td>\n",
       "      <td>1</td>\n",
       "      <td>5</td>\n",
       "      <td>4</td>\n",
       "      <td>4</td>\n",
       "      <td>2.0</td>\n",
       "      <td>...</td>\n",
       "      <td>4</td>\n",
       "      <td>1.0</td>\n",
       "      <td>2</td>\n",
       "      <td>2</td>\n",
       "      <td>0</td>\n",
       "      <td>0.0</td>\n",
       "      <td>-2</td>\n",
       "      <td>6</td>\n",
       "      <td>8</td>\n",
       "      <td>0.5</td>\n",
       "    </tr>\n",
       "    <tr>\n",
       "      <th>3</th>\n",
       "      <td>1</td>\n",
       "      <td>1</td>\n",
       "      <td>2</td>\n",
       "      <td>2</td>\n",
       "      <td>46</td>\n",
       "      <td>2</td>\n",
       "      <td>2</td>\n",
       "      <td>3</td>\n",
       "      <td>5</td>\n",
       "      <td>2.0</td>\n",
       "      <td>...</td>\n",
       "      <td>4</td>\n",
       "      <td>1.0</td>\n",
       "      <td>0</td>\n",
       "      <td>4</td>\n",
       "      <td>4</td>\n",
       "      <td>1.0</td>\n",
       "      <td>-3</td>\n",
       "      <td>7</td>\n",
       "      <td>10</td>\n",
       "      <td>0.4</td>\n",
       "    </tr>\n",
       "    <tr>\n",
       "      <th>4</th>\n",
       "      <td>1</td>\n",
       "      <td>1</td>\n",
       "      <td>2</td>\n",
       "      <td>0</td>\n",
       "      <td>46</td>\n",
       "      <td>2</td>\n",
       "      <td>2</td>\n",
       "      <td>4</td>\n",
       "      <td>5</td>\n",
       "      <td>2.0</td>\n",
       "      <td>...</td>\n",
       "      <td>4</td>\n",
       "      <td>1.0</td>\n",
       "      <td>2</td>\n",
       "      <td>2</td>\n",
       "      <td>0</td>\n",
       "      <td>0.0</td>\n",
       "      <td>-3</td>\n",
       "      <td>7</td>\n",
       "      <td>10</td>\n",
       "      <td>0.4</td>\n",
       "    </tr>\n",
       "  </tbody>\n",
       "</table>\n",
       "<p>5 rows × 365 columns</p>\n",
       "</div>"
      ],
      "text/plain": [
       "   channel_code  main_product_code  numberofadults  numberofchildren  \\\n",
       "0             3                  1               2                 0   \n",
       "1             1                  1               2                 0   \n",
       "2             1                  1               2                 0   \n",
       "3             1                  1               2                 2   \n",
       "4             1                  1               2                 0   \n",
       "\n",
       "   persontravellingid  resort_region_code  resort_type_code  \\\n",
       "0                  46                   3                 3   \n",
       "1                  46                   3                 3   \n",
       "2                  47                   1                 5   \n",
       "3                  46                   2                 2   \n",
       "4                  46                   2                 2   \n",
       "\n",
       "   room_type_booked_code  roomnights  season_holidayed_code  \\\n",
       "0                      3           1                    2.0   \n",
       "1                      4           5                    2.0   \n",
       "2                      4           4                    2.0   \n",
       "3                      3           5                    2.0   \n",
       "4                      4           5                    2.0   \n",
       "\n",
       "           ...           total_pax*numberofadults  total_pax/numberofadults  \\\n",
       "0          ...                                  6                       1.5   \n",
       "1          ...                                  4                       1.0   \n",
       "2          ...                                  4                       1.0   \n",
       "3          ...                                  4                       1.0   \n",
       "4          ...                                  4                       1.0   \n",
       "\n",
       "   total_pax-numberofchildren total_pax+numberofchildren  \\\n",
       "0                           3                          3   \n",
       "1                           2                          2   \n",
       "2                           2                          2   \n",
       "3                           0                          4   \n",
       "4                           2                          2   \n",
       "\n",
       "   total_pax*numberofchildren total_pax/numberofchildren total_pax-roomnights  \\\n",
       "0                           0                        0.0                    2   \n",
       "1                           0                        0.0                   -3   \n",
       "2                           0                        0.0                   -2   \n",
       "3                           4                        1.0                   -3   \n",
       "4                           0                        0.0                   -3   \n",
       "\n",
       "  total_pax+roomnights total_pax*roomnights  total_pax/roomnights  \n",
       "0                    4                    3                   3.0  \n",
       "1                    7                   10                   0.4  \n",
       "2                    6                    8                   0.5  \n",
       "3                    7                   10                   0.4  \n",
       "4                    7                   10                   0.4  \n",
       "\n",
       "[5 rows x 365 columns]"
      ]
     },
     "execution_count": 114,
     "metadata": {},
     "output_type": "execute_result"
    }
   ],
   "source": [
    "joined.head()"
   ]
  },
  {
   "cell_type": "code",
   "execution_count": 115,
   "metadata": {},
   "outputs": [],
   "source": [
    "check2 = joined.copy()"
   ]
  },
  {
   "cell_type": "code",
   "execution_count": 250,
   "metadata": {},
   "outputs": [],
   "source": [
    "joined = check2.copy()"
   ]
  },
  {
   "cell_type": "code",
   "execution_count": 251,
   "metadata": {},
   "outputs": [],
   "source": [
    "obj = joined.columns[joined.dtypes == object]"
   ]
  },
  {
   "cell_type": "code",
   "execution_count": 252,
   "metadata": {},
   "outputs": [],
   "source": [
    "from sklearn import preprocessing\n",
    "\n",
    "le = preprocessing.LabelEncoder()\n",
    "\n",
    "for c in obj:  \n",
    "    le.fit(joined[c])\n",
    "    joined[c] = le.transform(joined[c])\n"
   ]
  },
  {
   "cell_type": "code",
   "execution_count": 253,
   "metadata": {},
   "outputs": [],
   "source": [
    "train_proc = joined[joined[target] != -1]\n",
    "test_proc= joined[joined[target] == -1]"
   ]
  },
  {
   "cell_type": "code",
   "execution_count": 254,
   "metadata": {},
   "outputs": [
    {
     "name": "stderr",
     "output_type": "stream",
     "text": [
      "C:\\Users\\Soumik\\Anaconda3\\lib\\site-packages\\sklearn\\model_selection\\_split.py:2179: FutureWarning: From version 0.21, test_size will always complement train_size unless both are specified.\n",
      "  FutureWarning)\n",
      "C:\\Users\\Soumik\\Anaconda3\\lib\\site-packages\\pandas\\core\\frame.py:3697: SettingWithCopyWarning: \n",
      "A value is trying to be set on a copy of a slice from a DataFrame\n",
      "\n",
      "See the caveats in the documentation: http://pandas.pydata.org/pandas-docs/stable/indexing.html#indexing-view-versus-copy\n",
      "  errors=errors)\n"
     ]
    }
   ],
   "source": [
    "# Train test\n",
    "from sklearn.model_selection import train_test_split\n",
    "\n",
    "train_back, test_back, _ , y_test = train_test_split(train_proc, train_proc[target], train_size = 0.5)\n",
    "test_back.drop(target, inplace = True, axis = 1)\n",
    "\n",
    "train = train_back.copy()\n",
    "test = test_back.copy()"
   ]
  },
  {
   "cell_type": "code",
   "execution_count": 255,
   "metadata": {},
   "outputs": [],
   "source": [
    "# train = train_proc.copy()\n",
    "# test = test_proc.copy()"
   ]
  },
  {
   "cell_type": "code",
   "execution_count": 256,
   "metadata": {},
   "outputs": [],
   "source": [
    "y = train[target]\n",
    "train = train.drop([target], axis = 1)\n",
    "test_proc = test_proc.drop([target], axis = 1)"
   ]
  },
  {
   "cell_type": "code",
   "execution_count": 257,
   "metadata": {},
   "outputs": [],
   "source": [
    "y = y**(103/40)"
   ]
  },
  {
   "cell_type": "markdown",
   "metadata": {},
   "source": [
    "# Models"
   ]
  },
  {
   "cell_type": "markdown",
   "metadata": {},
   "source": [
    "### CATBOOST"
   ]
  },
  {
   "cell_type": "code",
   "execution_count": 258,
   "metadata": {},
   "outputs": [],
   "source": [
    "from catboost import CatBoostRegressor, Pool"
   ]
  },
  {
   "cell_type": "code",
   "execution_count": 259,
   "metadata": {},
   "outputs": [],
   "source": [
    "cat_boost = CatBoostRegressor(iterations=700,\n",
    "                             learning_rate=0.02,\n",
    "                             depth=12,\n",
    "                             eval_metric='RMSE',\n",
    "                             random_seed = 23,\n",
    "                             bagging_temperature = 0.2,\n",
    "                             od_type='Iter',\n",
    "                             metric_period = 75,\n",
    "                             od_wait=100, \n",
    "                             task_type = \"GPU\")"
   ]
  },
  {
   "cell_type": "code",
   "execution_count": 260,
   "metadata": {},
   "outputs": [
    {
     "data": {
      "text/plain": [
       "<catboost.core.CatBoostRegressor at 0x218f5005ac8>"
      ]
     },
     "execution_count": 260,
     "metadata": {},
     "output_type": "execute_result"
    }
   ],
   "source": [
    "cat_boost.fit(train, y, verbose = False, cat_features=vert_ag)"
   ]
  },
  {
   "cell_type": "code",
   "execution_count": 261,
   "metadata": {},
   "outputs": [
    {
     "data": {
      "text/plain": [
       "0.973172598585937"
      ]
     },
     "execution_count": 261,
     "metadata": {},
     "output_type": "execute_result"
    }
   ],
   "source": [
    "preds = cat_boost.predict(test, \n",
    "        ntree_start=0, \n",
    "        ntree_end=0, \n",
    "        thread_count=-1,\n",
    "        verbose=None)\n",
    "\n",
    "np.sqrt(mean_squared_error(y_test, preds**(40/103)))"
   ]
  },
  {
   "cell_type": "markdown",
   "metadata": {
    "heading_collapsed": true
   },
   "source": [
    "### ANALYSIS"
   ]
  },
  {
   "cell_type": "code",
   "execution_count": 124,
   "metadata": {
    "hidden": true
   },
   "outputs": [
    {
     "name": "stdout",
     "output_type": "stream",
     "text": [
      "Dataset is provided, but PredictionValuesChange feature importance don't use it, since non-empty LeafWeights in model.\n"
     ]
    }
   ],
   "source": [
    "feature_score = pd.DataFrame(list(zip(train.dtypes.index, cat_boost.get_feature_importance(Pool(train, label=y, cat_features=vert_ag)))),\n",
    "                columns=['Feature','Score'])"
   ]
  },
  {
   "cell_type": "code",
   "execution_count": 125,
   "metadata": {
    "hidden": true
   },
   "outputs": [],
   "source": [
    "feature_score = feature_score.sort_values(by='Score', ascending=False, inplace=False, kind='quicksort', na_position='last')"
   ]
  },
  {
   "cell_type": "code",
   "execution_count": null,
   "metadata": {
    "hidden": true,
    "scrolled": true
   },
   "outputs": [],
   "source": [
    "feature_score.Feature[:10]"
   ]
  },
  {
   "cell_type": "code",
   "execution_count": 45,
   "metadata": {
    "hidden": true
   },
   "outputs": [
    {
     "data": {
      "text/plain": [
       "False    170107\n",
       "True        605\n",
       "Name: checkin_Is_year_start, dtype: int64"
      ]
     },
     "execution_count": 45,
     "metadata": {},
     "output_type": "execute_result"
    }
   ],
   "source": [
    "train['checkin_Is_year_start'].value_counts()"
   ]
  },
  {
   "cell_type": "code",
   "execution_count": 126,
   "metadata": {
    "hidden": true
   },
   "outputs": [
    {
     "data": {
      "image/png": "[encoded data removed]",
      "text/plain": [
       "<Figure size 2160x504 with 1 Axes>"
      ]
     },
     "metadata": {
      "needs_background": "light"
     },
     "output_type": "display_data"
    }
   ],
   "source": [
    "plt.rcParams[\"figure.figsize\"] = (30,7)\n",
    "ax = feature_score[:30].plot('Feature', 'Score', kind='bar', color='c')\n",
    "ax.set_title(\"Catboost Feature Importance Ranking\", fontsize = 14)\n",
    "ax.set_xlabel('')\n",
    "\n",
    "rects = ax.patches\n",
    "\n",
    "# get feature score as labels round to 2 decimal\n",
    "labels = feature_score['Score'].round(2)\n",
    "\n",
    "for rect, label in zip(rects, labels):\n",
    "    height = rect.get_height()\n",
    "    ax.text(rect.get_x() + rect.get_width()/2, height + 0.35, label, ha='center', va='bottom')\n",
    "\n",
    "plt.show()"
   ]
  },
  {
   "cell_type": "code",
   "execution_count": 381,
   "metadata": {
    "hidden": true
   },
   "outputs": [
    {
     "data": {
      "text/plain": [
       "1.134952605537272"
      ]
     },
     "execution_count": 381,
     "metadata": {},
     "output_type": "execute_result"
    }
   ],
   "source": [
    "feature_score['Score'].median()"
   ]
  },
  {
   "cell_type": "code",
   "execution_count": 127,
   "metadata": {
    "hidden": true
   },
   "outputs": [
    {
     "data": {
      "text/plain": [
       "<matplotlib.collections.PathCollection at 0x2189d8dd668>"
      ]
     },
     "execution_count": 127,
     "metadata": {},
     "output_type": "execute_result"
    },
    {
     "data": {
      "image/png": "[encoded data removed]",
      "text/plain": [
       "<Figure size 640x640 with 1 Axes>"
      ]
     },
     "metadata": {
      "needs_background": "light"
     },
     "output_type": "display_data"
    }
   ],
   "source": [
    "plt.figure(figsize=(8, 8), dpi=80)\n",
    "plt.scatter(preds, y_test, s = 0.1)"
   ]
  },
  {
   "cell_type": "code",
   "execution_count": 50,
   "metadata": {
    "hidden": true
   },
   "outputs": [],
   "source": [
    "test['diff'] = abs(y_test - preds)"
   ]
  },
  {
   "cell_type": "code",
   "execution_count": 59,
   "metadata": {
    "hidden": true
   },
   "outputs": [
    {
     "data": {
      "text/plain": [
       "(array([   71.,   405.,  1493.,  3809.,  9403., 25061., 60636., 54563.,\n",
       "        13741.,  1530.]),\n",
       " array([ 1.60943791,  2.53007259,  3.45070727,  4.37134195,  5.29197664,\n",
       "         6.21261132,  7.133246  ,  8.05388068,  8.97451536,  9.89515004,\n",
       "        10.81578472]),\n",
       " <a list of 10 Patch objects>)"
      ]
     },
     "execution_count": 59,
     "metadata": {},
     "output_type": "execute_result"
    },
    {
     "data": {
      "image/png": "[encoded data removed]",
      "text/plain": [
       "<Figure size 2160x504 with 1 Axes>"
      ]
     },
     "metadata": {
      "needs_background": "light"
     },
     "output_type": "display_data"
    }
   ],
   "source": [
    "plt.hist(preds, alpha=0.7, color='blue', bins=10)\n",
    "plt.hist(y_test, alpha=0.4, color='red', bins=10)"
   ]
  },
  {
   "cell_type": "code",
   "execution_count": 132,
   "metadata": {
    "hidden": true
   },
   "outputs": [],
   "source": [
    "feat = feature_score['Feature'][:30]\n",
    "# test[feat].hist(figsize=(20, 20))"
   ]
  },
  {
   "cell_type": "code",
   "execution_count": 136,
   "metadata": {
    "hidden": true
   },
   "outputs": [
    {
     "data": {
      "image/png": "[encoded data removed]",
      "text/plain": [
       "<Figure size 504x504 with 1 Axes>"
      ]
     },
     "metadata": {
      "needs_background": "light"
     },
     "output_type": "display_data"
    }
   ],
   "source": [
    "plt.matshow(train[feat].corr())\n",
    "plt.show()"
   ]
  },
  {
   "cell_type": "code",
   "execution_count": 141,
   "metadata": {
    "hidden": true,
    "scrolled": true
   },
   "outputs": [],
   "source": [
    "corr = train[feat].corr()"
   ]
  },
  {
   "cell_type": "code",
   "execution_count": 168,
   "metadata": {
    "hidden": true
   },
   "outputs": [
    {
     "data": {
      "text/plain": [
       "dtype('int64')"
      ]
     },
     "execution_count": 168,
     "metadata": {},
     "output_type": "execute_result"
    }
   ],
   "source": [
    "train[train.columns[0]].dtype"
   ]
  },
  {
   "cell_type": "code",
   "execution_count": 551,
   "metadata": {
    "hidden": true
   },
   "outputs": [
    {
     "data": {
      "text/plain": [
       "41      2012-04-20\n",
       "57      2012-04-28\n",
       "5215    2015-01-01\n",
       "12275   2015-01-01\n",
       "66      2015-01-01\n",
       "Name: checkin_date, dtype: datetime64[ns]"
      ]
     },
     "execution_count": 551,
     "metadata": {},
     "output_type": "execute_result"
    }
   ],
   "source": [
    "checkin_dt.head()"
   ]
  },
  {
   "cell_type": "markdown",
   "metadata": {
    "heading_collapsed": true
   },
   "source": [
    "## LGBM"
   ]
  },
  {
   "cell_type": "code",
   "execution_count": 186,
   "metadata": {
    "hidden": true
   },
   "outputs": [],
   "source": [
    "param = {\n",
    "    'bagging_freq': 5,\n",
    "    'bagging_fraction': 0.335,\n",
    "    'boost_from_average':'false',\n",
    "    'boost': 'gbdt',\n",
    "    'feature_fraction': 0.041,\n",
    "    'learning_rate': 0.0083,\n",
    "    'max_depth': -1,\n",
    "    'metric':'rmse',\n",
    "    'min_data_in_leaf': 80,\n",
    "    'min_sum_hessian_in_leaf': 10.0,\n",
    "    'num_leaves': 13,\n",
    "    'num_threads': 8,\n",
    "    'tree_learner': 'serial',\n",
    "    'objective': 'regression', \n",
    "    'verbosity': -1\n",
    "}"
   ]
  },
  {
   "cell_type": "code",
   "execution_count": 187,
   "metadata": {
    "hidden": true
   },
   "outputs": [],
   "source": [
    "trn_data = lgb.Dataset(train, label=y)\n",
    "clf = lgb.train(param, trn_data, 10000)\n",
    "pred = clf.predict(test)"
   ]
  },
  {
   "cell_type": "markdown",
   "metadata": {},
   "source": [
    "## Analysis"
   ]
  },
  {
   "cell_type": "code",
   "execution_count": 247,
   "metadata": {},
   "outputs": [
    {
     "data": {
      "text/plain": [
       "(-0.916823258889611, -0.00038680408779822613, -1.4734219493962253)"
      ]
     },
     "execution_count": 247,
     "metadata": {},
     "output_type": "execute_result"
    }
   ],
   "source": [
    "y.skew() , (y**(103/40)).skew(), np.cbrt(y).skew()"
   ]
  },
  {
   "cell_type": "code",
   "execution_count": 188,
   "metadata": {},
   "outputs": [
    {
     "data": {
      "text/plain": [
       "1.1891010085689013"
      ]
     },
     "execution_count": 188,
     "metadata": {},
     "output_type": "execute_result"
    }
   ],
   "source": [
    "np.sqrt(mean_squared_error(y_test, preds))"
   ]
  },
  {
   "cell_type": "code",
   "execution_count": 538,
   "metadata": {
    "scrolled": true
   },
   "outputs": [
    {
     "data": {
      "text/html": [
       "<div>\n",
       "<style scoped>\n",
       "    .dataframe tbody tr th:only-of-type {\n",
       "        vertical-align: middle;\n",
       "    }\n",
       "\n",
       "    .dataframe tbody tr th {\n",
       "        vertical-align: top;\n",
       "    }\n",
       "\n",
       "    .dataframe thead th {\n",
       "        text-align: right;\n",
       "    }\n",
       "</style>\n",
       "<table border=\"1\" class=\"dataframe\">\n",
       "  <thead>\n",
       "    <tr style=\"text-align: right;\">\n",
       "      <th></th>\n",
       "      <th>reservation_id</th>\n",
       "      <th>amount_spent_per_room_night_scaled</th>\n",
       "    </tr>\n",
       "  </thead>\n",
       "  <tbody>\n",
       "    <tr>\n",
       "      <th>0</th>\n",
       "      <td>7dae1ce6bc8f69481328f2be5c4943077dad5598b5f66d...</td>\n",
       "      <td>-1</td>\n",
       "    </tr>\n",
       "    <tr>\n",
       "      <th>1</th>\n",
       "      <td>fe0d4e444e1818436c88f72f1cf800536c2f785e59baeb...</td>\n",
       "      <td>-1</td>\n",
       "    </tr>\n",
       "  </tbody>\n",
       "</table>\n",
       "</div>"
      ],
      "text/plain": [
       "                                      reservation_id  \\\n",
       "0  7dae1ce6bc8f69481328f2be5c4943077dad5598b5f66d...   \n",
       "1  fe0d4e444e1818436c88f72f1cf800536c2f785e59baeb...   \n",
       "\n",
       "   amount_spent_per_room_night_scaled  \n",
       "0                                  -1  \n",
       "1                                  -1  "
      ]
     },
     "execution_count": 538,
     "metadata": {},
     "output_type": "execute_result"
    }
   ],
   "source": [
    "#CatBoost submission\n",
    "submission = test_df[['reservation_id', 'amount_spent_per_room_night_scaled']]\n",
    "submission.head(2)"
   ]
  },
  {
   "cell_type": "code",
   "execution_count": 539,
   "metadata": {},
   "outputs": [
    {
     "name": "stderr",
     "output_type": "stream",
     "text": [
      "C:\\Users\\Soumik\\Anaconda3\\lib\\site-packages\\ipykernel_launcher.py:2: SettingWithCopyWarning: \n",
      "A value is trying to be set on a copy of a slice from a DataFrame.\n",
      "Try using .loc[row_indexer,col_indexer] = value instead\n",
      "\n",
      "See the caveats in the documentation: http://pandas.pydata.org/pandas-docs/stable/indexing.html#indexing-view-versus-copy\n",
      "  \n"
     ]
    },
    {
     "data": {
      "text/html": [
       "<div>\n",
       "<style scoped>\n",
       "    .dataframe tbody tr th:only-of-type {\n",
       "        vertical-align: middle;\n",
       "    }\n",
       "\n",
       "    .dataframe tbody tr th {\n",
       "        vertical-align: top;\n",
       "    }\n",
       "\n",
       "    .dataframe thead th {\n",
       "        text-align: right;\n",
       "    }\n",
       "</style>\n",
       "<table border=\"1\" class=\"dataframe\">\n",
       "  <thead>\n",
       "    <tr style=\"text-align: right;\">\n",
       "      <th></th>\n",
       "      <th>reservation_id</th>\n",
       "      <th>amount_spent_per_room_night_scaled</th>\n",
       "    </tr>\n",
       "  </thead>\n",
       "  <tbody>\n",
       "    <tr>\n",
       "      <th>0</th>\n",
       "      <td>7dae1ce6bc8f69481328f2be5c4943077dad5598b5f66d...</td>\n",
       "      <td>8.153924</td>\n",
       "    </tr>\n",
       "    <tr>\n",
       "      <th>1</th>\n",
       "      <td>fe0d4e444e1818436c88f72f1cf800536c2f785e59baeb...</td>\n",
       "      <td>7.625183</td>\n",
       "    </tr>\n",
       "  </tbody>\n",
       "</table>\n",
       "</div>"
      ],
      "text/plain": [
       "                                      reservation_id  \\\n",
       "0  7dae1ce6bc8f69481328f2be5c4943077dad5598b5f66d...   \n",
       "1  fe0d4e444e1818436c88f72f1cf800536c2f785e59baeb...   \n",
       "\n",
       "   amount_spent_per_room_night_scaled  \n",
       "0                            8.153924  \n",
       "1                            7.625183  "
      ]
     },
     "execution_count": 539,
     "metadata": {},
     "output_type": "execute_result"
    }
   ],
   "source": [
    "#LGBM submission\n",
    "submission['amount_spent_per_room_night_scaled'] = preds\n",
    "submission.head(2)"
   ]
  },
  {
   "cell_type": "code",
   "execution_count": 570,
   "metadata": {},
   "outputs": [
    {
     "data": {
      "text/plain": [
       "34143"
      ]
     },
     "execution_count": 570,
     "metadata": {},
     "output_type": "execute_result"
    }
   ],
   "source": [
    "len(test)"
   ]
  },
  {
   "cell_type": "code",
   "execution_count": 540,
   "metadata": {},
   "outputs": [],
   "source": [
    "filename=\"{:%Y-%m-%d_%H_%M}_sub.csv\".format(datetime.now())\n",
    "submission.to_csv(filename, index=False)"
   ]
  },
  {
   "cell_type": "code",
   "execution_count": 175,
   "metadata": {},
   "outputs": [],
   "source": [
    "from sklearn.preprocessing import OrdinalEncoder"
   ]
  },
  {
   "cell_type": "code",
   "execution_count": 217,
   "metadata": {},
   "outputs": [
    {
     "name": "stderr",
     "output_type": "stream",
     "text": [
      "C:\\Users\\Soumik\\Anaconda3\\lib\\site-packages\\ipykernel_launcher.py:5: SettingWithCopyWarning: \n",
      "A value is trying to be set on a copy of a slice from a DataFrame.\n",
      "Try using .loc[row_indexer,col_indexer] = value instead\n",
      "\n",
      "See the caveats in the documentation: http://pandas.pydata.org/pandas-docs/stable/indexing.html#indexing-view-versus-copy\n",
      "  \"\"\"\n",
      "C:\\Users\\Soumik\\Anaconda3\\lib\\site-packages\\pandas\\core\\indexing.py:543: SettingWithCopyWarning: \n",
      "A value is trying to be set on a copy of a slice from a DataFrame.\n",
      "Try using .loc[row_indexer,col_indexer] = value instead\n",
      "\n",
      "See the caveats in the documentation: http://pandas.pydata.org/pandas-docs/stable/indexing.html#indexing-view-versus-copy\n",
      "  self.obj[item] = s\n",
      "C:\\Users\\Soumik\\Anaconda3\\lib\\site-packages\\ipykernel_launcher.py:6: SettingWithCopyWarning: \n",
      "A value is trying to be set on a copy of a slice from a DataFrame.\n",
      "Try using .loc[row_indexer,col_indexer] = value instead\n",
      "\n",
      "See the caveats in the documentation: http://pandas.pydata.org/pandas-docs/stable/indexing.html#indexing-view-versus-copy\n",
      "  \n",
      "C:\\Users\\Soumik\\Anaconda3\\lib\\site-packages\\pandas\\core\\indexing.py:543: SettingWithCopyWarning: \n",
      "A value is trying to be set on a copy of a slice from a DataFrame.\n",
      "Try using .loc[row_indexer,col_indexer] = value instead\n",
      "\n",
      "See the caveats in the documentation: http://pandas.pydata.org/pandas-docs/stable/indexing.html#indexing-view-versus-copy\n",
      "  self.obj[item] = s\n",
      "C:\\Users\\Soumik\\Anaconda3\\lib\\site-packages\\ipykernel_launcher.py:9: SettingWithCopyWarning: \n",
      "A value is trying to be set on a copy of a slice from a DataFrame.\n",
      "Try using .loc[row_indexer,col_indexer] = value instead\n",
      "\n",
      "See the caveats in the documentation: http://pandas.pydata.org/pandas-docs/stable/indexing.html#indexing-view-versus-copy\n",
      "  if __name__ == '__main__':\n",
      "C:\\Users\\Soumik\\Anaconda3\\lib\\site-packages\\ipykernel_launcher.py:10: SettingWithCopyWarning: \n",
      "A value is trying to be set on a copy of a slice from a DataFrame.\n",
      "Try using .loc[row_indexer,col_indexer] = value instead\n",
      "\n",
      "See the caveats in the documentation: http://pandas.pydata.org/pandas-docs/stable/indexing.html#indexing-view-versus-copy\n",
      "  # Remove the CWD from sys.path while we load stuff.\n"
     ]
    }
   ],
   "source": [
    "categories = ['cluster_code', 'reservationstatusid_code', 'member_age_buckets']\n",
    "enc = OrdinalEncoder()\n",
    "enc.fit(train[categories])\n",
    "\n",
    "train[categories] = enc.transform(train[categories])\n",
    "test[categories] = enc.transform(test[categories])\n",
    "\n",
    "for c in categories:\n",
    "    train[c] = pd.to_numeric(train[c], downcast='signed')\n",
    "    test[c] = pd.to_numeric(test[c], downcast='signed')"
   ]
  },
  {
   "cell_type": "code",
   "execution_count": 205,
   "metadata": {},
   "outputs": [
    {
     "data": {
      "text/plain": [
       "cluster_code                 6\n",
       "reservationstatusid_code     4\n",
       "member_age_buckets          10\n",
       "dtype: int64"
      ]
     },
     "execution_count": 205,
     "metadata": {},
     "output_type": "execute_result"
    }
   ],
   "source": [
    "train[categories].nunique()"
   ]
  },
  {
   "cell_type": "code",
   "execution_count": 206,
   "metadata": {},
   "outputs": [
    {
     "data": {
      "text/plain": [
       "cluster_code                 6\n",
       "reservationstatusid_code     3\n",
       "member_age_buckets          10\n",
       "dtype: int64"
      ]
     },
     "execution_count": 206,
     "metadata": {},
     "output_type": "execute_result"
    }
   ],
   "source": [
    "test[categories].nunique()"
   ]
  },
  {
   "cell_type": "code",
   "execution_count": 207,
   "metadata": {
    "collapsed": true
   },
   "outputs": [
    {
     "name": "stdout",
     "output_type": "stream",
     "text": [
      "cluster_code\n",
      "5    120623\n",
      "4     59830\n",
      "3     55883\n",
      "2     37809\n",
      "1     37669\n",
      "0     29610\n",
      "Name: cluster_code, dtype: int64\n",
      "F    52147\n",
      "E    25531\n",
      "D    24245\n",
      "B    15957\n",
      "C    15795\n",
      "A    13090\n",
      "Name: cluster_code, dtype: int64\n",
      "reservationstatusid_code\n",
      "0    312481\n",
      "1     14811\n",
      "2     14131\n",
      "3         1\n",
      "Name: reservationstatusid_code, dtype: int64\n",
      "A    134262\n",
      "B      6429\n",
      "C      6074\n",
      "Name: reservationstatusid_code, dtype: int64\n",
      "member_age_buckets\n",
      "3    67618\n",
      "4    66701\n",
      "5    50967\n",
      "2    45192\n",
      "7    38548\n",
      "6    36082\n",
      "1    19430\n",
      "8     8454\n",
      "0     7054\n",
      "9     1378\n",
      "Name: member_age_buckets, dtype: int64\n",
      "E    28941\n",
      "D    28334\n",
      "F    22230\n",
      "C    19584\n",
      "H    16115\n",
      "G    15919\n",
      "B     8130\n",
      "I     3601\n",
      "A     3262\n",
      "J      649\n",
      "Name: member_age_buckets, dtype: int64\n"
     ]
    }
   ],
   "source": [
    "for c in categories:\n",
    "    print(c)\n",
    "    print(train[c].value_counts())\n",
    "    print(test[c].value_counts())"
   ]
  },
  {
   "cell_type": "code",
   "execution_count": 571,
   "metadata": {
    "scrolled": true
   },
   "outputs": [
    {
     "data": {
      "text/plain": [
       "0.25044091710758376"
      ]
     },
     "execution_count": 571,
     "metadata": {},
     "output_type": "execute_result"
    }
   ],
   "source": [
    "142/567"
   ]
  },
  {
   "cell_type": "code",
   "execution_count": 67,
   "metadata": {},
   "outputs": [
    {
     "data": {
      "text/plain": [
       "0"
      ]
     },
     "execution_count": 67,
     "metadata": {},
     "output_type": "execute_result"
    }
   ],
   "source": [
    "t = test_df['channel_code'].values != test_proc['channel_code'].values\n",
    "t.sum()"
   ]
  },
  {
   "cell_type": "markdown",
   "metadata": {},
   "source": [
    "# Ridge "
   ]
  },
  {
   "cell_type": "code",
   "execution_count": 300,
   "metadata": {},
   "outputs": [],
   "source": [
    "from sklearn.linear_model import LassoLarsCV"
   ]
  },
  {
   "cell_type": "code",
   "execution_count": 285,
   "metadata": {},
   "outputs": [],
   "source": [
    "drop_col = train.columns[train.isna().sum(axis = 0)>0]\n",
    "train = train.drop(drop_col, axis = 1)"
   ]
  },
  {
   "cell_type": "code",
   "execution_count": 301,
   "metadata": {},
   "outputs": [
    {
     "name": "stderr",
     "output_type": "stream",
     "text": [
      "C:\\Users\\Soumik\\Anaconda3\\lib\\site-packages\\sklearn\\model_selection\\_split.py:2053: FutureWarning: You should specify a value for 'cv' instead of relying on the default value. The default value will change from 3 to 5 in version 0.22.\n",
      "  warnings.warn(CV_WARNING, FutureWarning)\n",
      "C:\\Users\\Soumik\\Anaconda3\\lib\\site-packages\\sklearn\\linear_model\\least_angle.py:311: ConvergenceWarning: Regressors in active set degenerate. Dropping a regressor, after 19 iterations, i.e. alpha=8.184e-03, with an active set of 17 regressors, and the smallest cholesky pivot element being 1.490e-08. Reduce max_iter or increase eps parameters.\n",
      "  ConvergenceWarning)\n",
      "C:\\Users\\Soumik\\Anaconda3\\lib\\site-packages\\sklearn\\linear_model\\least_angle.py:311: ConvergenceWarning: Regressors in active set degenerate. Dropping a regressor, after 26 iterations, i.e. alpha=6.220e-03, with an active set of 24 regressors, and the smallest cholesky pivot element being 2.107e-08. Reduce max_iter or increase eps parameters.\n",
      "  ConvergenceWarning)\n",
      "C:\\Users\\Soumik\\Anaconda3\\lib\\site-packages\\sklearn\\linear_model\\least_angle.py:311: ConvergenceWarning: Regressors in active set degenerate. Dropping a regressor, after 40 iterations, i.e. alpha=4.300e-03, with an active set of 38 regressors, and the smallest cholesky pivot element being 1.490e-08. Reduce max_iter or increase eps parameters.\n",
      "  ConvergenceWarning)\n",
      "C:\\Users\\Soumik\\Anaconda3\\lib\\site-packages\\sklearn\\linear_model\\least_angle.py:311: ConvergenceWarning: Regressors in active set degenerate. Dropping a regressor, after 40 iterations, i.e. alpha=4.300e-03, with an active set of 38 regressors, and the smallest cholesky pivot element being 1.490e-08. Reduce max_iter or increase eps parameters.\n",
      "  ConvergenceWarning)\n",
      "C:\\Users\\Soumik\\Anaconda3\\lib\\site-packages\\sklearn\\linear_model\\least_angle.py:311: ConvergenceWarning: Regressors in active set degenerate. Dropping a regressor, after 40 iterations, i.e. alpha=4.300e-03, with an active set of 38 regressors, and the smallest cholesky pivot element being 3.942e-08. Reduce max_iter or increase eps parameters.\n",
      "  ConvergenceWarning)\n",
      "C:\\Users\\Soumik\\Anaconda3\\lib\\site-packages\\sklearn\\linear_model\\least_angle.py:311: ConvergenceWarning: Regressors in active set degenerate. Dropping a regressor, after 40 iterations, i.e. alpha=4.300e-03, with an active set of 38 regressors, and the smallest cholesky pivot element being 1.825e-08. Reduce max_iter or increase eps parameters.\n",
      "  ConvergenceWarning)\n",
      "C:\\Users\\Soumik\\Anaconda3\\lib\\site-packages\\sklearn\\linear_model\\least_angle.py:311: ConvergenceWarning: Regressors in active set degenerate. Dropping a regressor, after 40 iterations, i.e. alpha=4.285e-03, with an active set of 38 regressors, and the smallest cholesky pivot element being 9.186e-08. Reduce max_iter or increase eps parameters.\n",
      "  ConvergenceWarning)\n",
      "C:\\Users\\Soumik\\Anaconda3\\lib\\site-packages\\sklearn\\linear_model\\least_angle.py:311: ConvergenceWarning: Regressors in active set degenerate. Dropping a regressor, after 40 iterations, i.e. alpha=4.283e-03, with an active set of 38 regressors, and the smallest cholesky pivot element being 5.674e-08. Reduce max_iter or increase eps parameters.\n",
      "  ConvergenceWarning)\n",
      "C:\\Users\\Soumik\\Anaconda3\\lib\\site-packages\\sklearn\\linear_model\\least_angle.py:311: ConvergenceWarning: Regressors in active set degenerate. Dropping a regressor, after 40 iterations, i.e. alpha=4.273e-03, with an active set of 38 regressors, and the smallest cholesky pivot element being 3.332e-08. Reduce max_iter or increase eps parameters.\n",
      "  ConvergenceWarning)\n",
      "C:\\Users\\Soumik\\Anaconda3\\lib\\site-packages\\sklearn\\linear_model\\least_angle.py:311: ConvergenceWarning: Regressors in active set degenerate. Dropping a regressor, after 45 iterations, i.e. alpha=3.112e-03, with an active set of 43 regressors, and the smallest cholesky pivot element being 5.674e-08. Reduce max_iter or increase eps parameters.\n",
      "  ConvergenceWarning)\n",
      "C:\\Users\\Soumik\\Anaconda3\\lib\\site-packages\\sklearn\\linear_model\\least_angle.py:311: ConvergenceWarning: Regressors in active set degenerate. Dropping a regressor, after 45 iterations, i.e. alpha=3.096e-03, with an active set of 43 regressors, and the smallest cholesky pivot element being 7.300e-08. Reduce max_iter or increase eps parameters.\n",
      "  ConvergenceWarning)\n",
      "C:\\Users\\Soumik\\Anaconda3\\lib\\site-packages\\sklearn\\linear_model\\least_angle.py:311: ConvergenceWarning: Regressors in active set degenerate. Dropping a regressor, after 48 iterations, i.e. alpha=2.852e-03, with an active set of 46 regressors, and the smallest cholesky pivot element being 2.107e-08. Reduce max_iter or increase eps parameters.\n",
      "  ConvergenceWarning)\n",
      "C:\\Users\\Soumik\\Anaconda3\\lib\\site-packages\\sklearn\\linear_model\\least_angle.py:311: ConvergenceWarning: Regressors in active set degenerate. Dropping a regressor, after 48 iterations, i.e. alpha=2.852e-03, with an active set of 46 regressors, and the smallest cholesky pivot element being 2.980e-08. Reduce max_iter or increase eps parameters.\n",
      "  ConvergenceWarning)\n",
      "C:\\Users\\Soumik\\Anaconda3\\lib\\site-packages\\sklearn\\linear_model\\least_angle.py:311: ConvergenceWarning: Regressors in active set degenerate. Dropping a regressor, after 58 iterations, i.e. alpha=2.107e-03, with an active set of 56 regressors, and the smallest cholesky pivot element being 1.490e-08. Reduce max_iter or increase eps parameters.\n",
      "  ConvergenceWarning)\n",
      "C:\\Users\\Soumik\\Anaconda3\\lib\\site-packages\\sklearn\\linear_model\\least_angle.py:311: ConvergenceWarning: Regressors in active set degenerate. Dropping a regressor, after 58 iterations, i.e. alpha=2.107e-03, with an active set of 56 regressors, and the smallest cholesky pivot element being 1.490e-08. Reduce max_iter or increase eps parameters.\n",
      "  ConvergenceWarning)\n",
      "C:\\Users\\Soumik\\Anaconda3\\lib\\site-packages\\sklearn\\linear_model\\least_angle.py:311: ConvergenceWarning: Regressors in active set degenerate. Dropping a regressor, after 58 iterations, i.e. alpha=2.107e-03, with an active set of 56 regressors, and the smallest cholesky pivot element being 3.942e-08. Reduce max_iter or increase eps parameters.\n",
      "  ConvergenceWarning)\n",
      "C:\\Users\\Soumik\\Anaconda3\\lib\\site-packages\\sklearn\\linear_model\\least_angle.py:311: ConvergenceWarning: Regressors in active set degenerate. Dropping a regressor, after 58 iterations, i.e. alpha=2.107e-03, with an active set of 56 regressors, and the smallest cholesky pivot element being 1.825e-08. Reduce max_iter or increase eps parameters.\n",
      "  ConvergenceWarning)\n",
      "C:\\Users\\Soumik\\Anaconda3\\lib\\site-packages\\sklearn\\linear_model\\least_angle.py:311: ConvergenceWarning: Regressors in active set degenerate. Dropping a regressor, after 58 iterations, i.e. alpha=2.100e-03, with an active set of 56 regressors, and the smallest cholesky pivot element being 9.186e-08. Reduce max_iter or increase eps parameters.\n",
      "  ConvergenceWarning)\n",
      "C:\\Users\\Soumik\\Anaconda3\\lib\\site-packages\\sklearn\\linear_model\\least_angle.py:311: ConvergenceWarning: Regressors in active set degenerate. Dropping a regressor, after 58 iterations, i.e. alpha=2.099e-03, with an active set of 56 regressors, and the smallest cholesky pivot element being 5.674e-08. Reduce max_iter or increase eps parameters.\n",
      "  ConvergenceWarning)\n",
      "C:\\Users\\Soumik\\Anaconda3\\lib\\site-packages\\sklearn\\linear_model\\least_angle.py:311: ConvergenceWarning: Regressors in active set degenerate. Dropping a regressor, after 58 iterations, i.e. alpha=2.085e-03, with an active set of 56 regressors, and the smallest cholesky pivot element being 5.771e-08. Reduce max_iter or increase eps parameters.\n",
      "  ConvergenceWarning)\n",
      "C:\\Users\\Soumik\\Anaconda3\\lib\\site-packages\\sklearn\\linear_model\\least_angle.py:311: ConvergenceWarning: Regressors in active set degenerate. Dropping a regressor, after 65 iterations, i.e. alpha=1.753e-03, with an active set of 63 regressors, and the smallest cholesky pivot element being 3.332e-08. Reduce max_iter or increase eps parameters.\n",
      "  ConvergenceWarning)\n",
      "C:\\Users\\Soumik\\Anaconda3\\lib\\site-packages\\sklearn\\linear_model\\least_angle.py:311: ConvergenceWarning: Regressors in active set degenerate. Dropping a regressor, after 65 iterations, i.e. alpha=1.753e-03, with an active set of 63 regressors, and the smallest cholesky pivot element being 1.490e-08. Reduce max_iter or increase eps parameters.\n",
      "  ConvergenceWarning)\n",
      "C:\\Users\\Soumik\\Anaconda3\\lib\\site-packages\\sklearn\\linear_model\\least_angle.py:311: ConvergenceWarning: Regressors in active set degenerate. Dropping a regressor, after 65 iterations, i.e. alpha=1.753e-03, with an active set of 63 regressors, and the smallest cholesky pivot element being 8.941e-08. Reduce max_iter or increase eps parameters.\n",
      "  ConvergenceWarning)\n",
      "C:\\Users\\Soumik\\Anaconda3\\lib\\site-packages\\sklearn\\linear_model\\least_angle.py:311: ConvergenceWarning: Regressors in active set degenerate. Dropping a regressor, after 65 iterations, i.e. alpha=1.753e-03, with an active set of 63 regressors, and the smallest cholesky pivot element being 3.332e-08. Reduce max_iter or increase eps parameters.\n",
      "  ConvergenceWarning)\n",
      "C:\\Users\\Soumik\\Anaconda3\\lib\\site-packages\\sklearn\\linear_model\\least_angle.py:311: ConvergenceWarning: Regressors in active set degenerate. Dropping a regressor, after 65 iterations, i.e. alpha=1.753e-03, with an active set of 63 regressors, and the smallest cholesky pivot element being 5.960e-08. Reduce max_iter or increase eps parameters.\n",
      "  ConvergenceWarning)\n",
      "C:\\Users\\Soumik\\Anaconda3\\lib\\site-packages\\sklearn\\linear_model\\least_angle.py:311: ConvergenceWarning: Regressors in active set degenerate. Dropping a regressor, after 65 iterations, i.e. alpha=1.753e-03, with an active set of 63 regressors, and the smallest cholesky pivot element being 8.689e-08. Reduce max_iter or increase eps parameters.\n",
      "  ConvergenceWarning)\n",
      "C:\\Users\\Soumik\\Anaconda3\\lib\\site-packages\\sklearn\\linear_model\\least_angle.py:311: ConvergenceWarning: Regressors in active set degenerate. Dropping a regressor, after 65 iterations, i.e. alpha=1.753e-03, with an active set of 63 regressors, and the smallest cholesky pivot element being 8.429e-08. Reduce max_iter or increase eps parameters.\n",
      "  ConvergenceWarning)\n",
      "C:\\Users\\Soumik\\Anaconda3\\lib\\site-packages\\sklearn\\linear_model\\least_angle.py:337: ConvergenceWarning: Early stopping the lars path, as the residues are small and the current value of alpha is no longer well controlled. 71 iterations, alpha=1.681e-03, previous alpha=1.628e-03, with an active set of 62 regressors.\n",
      "  ConvergenceWarning)\n"
     ]
    },
    {
     "name": "stderr",
     "output_type": "stream",
     "text": [
      "C:\\Users\\Soumik\\Anaconda3\\lib\\site-packages\\sklearn\\linear_model\\least_angle.py:311: ConvergenceWarning: Regressors in active set degenerate. Dropping a regressor, after 66 iterations, i.e. alpha=1.561e-03, with an active set of 64 regressors, and the smallest cholesky pivot element being 2.220e-16. Reduce max_iter or increase eps parameters.\n",
      "  ConvergenceWarning)\n",
      "C:\\Users\\Soumik\\Anaconda3\\lib\\site-packages\\sklearn\\linear_model\\least_angle.py:311: ConvergenceWarning: Regressors in active set degenerate. Dropping a regressor, after 71 iterations, i.e. alpha=1.416e-03, with an active set of 67 regressors, and the smallest cholesky pivot element being 1.054e-08. Reduce max_iter or increase eps parameters.\n",
      "  ConvergenceWarning)\n",
      "C:\\Users\\Soumik\\Anaconda3\\lib\\site-packages\\sklearn\\linear_model\\least_angle.py:311: ConvergenceWarning: Regressors in active set degenerate. Dropping a regressor, after 107 iterations, i.e. alpha=7.098e-04, with an active set of 89 regressors, and the smallest cholesky pivot element being 2.107e-08. Reduce max_iter or increase eps parameters.\n",
      "  ConvergenceWarning)\n",
      "C:\\Users\\Soumik\\Anaconda3\\lib\\site-packages\\sklearn\\linear_model\\least_angle.py:311: ConvergenceWarning: Regressors in active set degenerate. Dropping a regressor, after 107 iterations, i.e. alpha=7.098e-04, with an active set of 89 regressors, and the smallest cholesky pivot element being 1.490e-08. Reduce max_iter or increase eps parameters.\n",
      "  ConvergenceWarning)\n",
      "C:\\Users\\Soumik\\Anaconda3\\lib\\site-packages\\sklearn\\linear_model\\least_angle.py:311: ConvergenceWarning: Regressors in active set degenerate. Dropping a regressor, after 107 iterations, i.e. alpha=7.098e-04, with an active set of 89 regressors, and the smallest cholesky pivot element being 2.220e-16. Reduce max_iter or increase eps parameters.\n",
      "  ConvergenceWarning)\n",
      "C:\\Users\\Soumik\\Anaconda3\\lib\\site-packages\\sklearn\\linear_model\\least_angle.py:311: ConvergenceWarning: Regressors in active set degenerate. Dropping a regressor, after 107 iterations, i.e. alpha=7.098e-04, with an active set of 89 regressors, and the smallest cholesky pivot element being 3.650e-08. Reduce max_iter or increase eps parameters.\n",
      "  ConvergenceWarning)\n",
      "C:\\Users\\Soumik\\Anaconda3\\lib\\site-packages\\sklearn\\linear_model\\least_angle.py:311: ConvergenceWarning: Regressors in active set degenerate. Dropping a regressor, after 107 iterations, i.e. alpha=7.098e-04, with an active set of 89 regressors, and the smallest cholesky pivot element being 5.162e-08. Reduce max_iter or increase eps parameters.\n",
      "  ConvergenceWarning)\n",
      "C:\\Users\\Soumik\\Anaconda3\\lib\\site-packages\\sklearn\\linear_model\\least_angle.py:311: ConvergenceWarning: Regressors in active set degenerate. Dropping a regressor, after 107 iterations, i.e. alpha=7.098e-04, with an active set of 89 regressors, and the smallest cholesky pivot element being 8.816e-08. Reduce max_iter or increase eps parameters.\n",
      "  ConvergenceWarning)\n",
      "C:\\Users\\Soumik\\Anaconda3\\lib\\site-packages\\sklearn\\linear_model\\least_angle.py:311: ConvergenceWarning: Regressors in active set degenerate. Dropping a regressor, after 107 iterations, i.e. alpha=7.098e-04, with an active set of 89 regressors, and the smallest cholesky pivot element being 6.495e-08. Reduce max_iter or increase eps parameters.\n",
      "  ConvergenceWarning)\n",
      "C:\\Users\\Soumik\\Anaconda3\\lib\\site-packages\\sklearn\\linear_model\\least_angle.py:311: ConvergenceWarning: Regressors in active set degenerate. Dropping a regressor, after 107 iterations, i.e. alpha=7.098e-04, with an active set of 89 regressors, and the smallest cholesky pivot element being 1.490e-08. Reduce max_iter or increase eps parameters.\n",
      "  ConvergenceWarning)\n",
      "C:\\Users\\Soumik\\Anaconda3\\lib\\site-packages\\sklearn\\linear_model\\least_angle.py:311: ConvergenceWarning: Regressors in active set degenerate. Dropping a regressor, after 107 iterations, i.e. alpha=7.098e-04, with an active set of 89 regressors, and the smallest cholesky pivot element being 7.146e-08. Reduce max_iter or increase eps parameters.\n",
      "  ConvergenceWarning)\n",
      "C:\\Users\\Soumik\\Anaconda3\\lib\\site-packages\\sklearn\\linear_model\\least_angle.py:311: ConvergenceWarning: Regressors in active set degenerate. Dropping a regressor, after 107 iterations, i.e. alpha=7.098e-04, with an active set of 89 regressors, and the smallest cholesky pivot element being 2.581e-08. Reduce max_iter or increase eps parameters.\n",
      "  ConvergenceWarning)\n",
      "C:\\Users\\Soumik\\Anaconda3\\lib\\site-packages\\sklearn\\linear_model\\least_angle.py:311: ConvergenceWarning: Regressors in active set degenerate. Dropping a regressor, after 107 iterations, i.e. alpha=7.098e-04, with an active set of 89 regressors, and the smallest cholesky pivot element being 4.712e-08. Reduce max_iter or increase eps parameters.\n",
      "  ConvergenceWarning)\n",
      "C:\\Users\\Soumik\\Anaconda3\\lib\\site-packages\\sklearn\\linear_model\\least_angle.py:311: ConvergenceWarning: Regressors in active set degenerate. Dropping a regressor, after 107 iterations, i.e. alpha=7.098e-04, with an active set of 89 regressors, and the smallest cholesky pivot element being 4.942e-08. Reduce max_iter or increase eps parameters.\n",
      "  ConvergenceWarning)\n",
      "C:\\Users\\Soumik\\Anaconda3\\lib\\site-packages\\sklearn\\linear_model\\least_angle.py:311: ConvergenceWarning: Regressors in active set degenerate. Dropping a regressor, after 107 iterations, i.e. alpha=7.098e-04, with an active set of 89 regressors, and the smallest cholesky pivot element being 6.495e-08. Reduce max_iter or increase eps parameters.\n",
      "  ConvergenceWarning)\n",
      "C:\\Users\\Soumik\\Anaconda3\\lib\\site-packages\\sklearn\\linear_model\\least_angle.py:311: ConvergenceWarning: Regressors in active set degenerate. Dropping a regressor, after 107 iterations, i.e. alpha=7.098e-04, with an active set of 89 regressors, and the smallest cholesky pivot element being 5.576e-08. Reduce max_iter or increase eps parameters.\n",
      "  ConvergenceWarning)\n",
      "C:\\Users\\Soumik\\Anaconda3\\lib\\site-packages\\sklearn\\linear_model\\least_angle.py:311: ConvergenceWarning: Regressors in active set degenerate. Dropping a regressor, after 107 iterations, i.e. alpha=7.098e-04, with an active set of 89 regressors, and the smallest cholesky pivot element being 2.581e-08. Reduce max_iter or increase eps parameters.\n",
      "  ConvergenceWarning)\n",
      "C:\\Users\\Soumik\\Anaconda3\\lib\\site-packages\\sklearn\\linear_model\\least_angle.py:311: ConvergenceWarning: Regressors in active set degenerate. Dropping a regressor, after 107 iterations, i.e. alpha=7.098e-04, with an active set of 89 regressors, and the smallest cholesky pivot element being 3.332e-08. Reduce max_iter or increase eps parameters.\n",
      "  ConvergenceWarning)\n",
      "C:\\Users\\Soumik\\Anaconda3\\lib\\site-packages\\sklearn\\linear_model\\least_angle.py:311: ConvergenceWarning: Regressors in active set degenerate. Dropping a regressor, after 107 iterations, i.e. alpha=7.098e-04, with an active set of 89 regressors, and the smallest cholesky pivot element being 9.125e-08. Reduce max_iter or increase eps parameters.\n",
      "  ConvergenceWarning)\n",
      "C:\\Users\\Soumik\\Anaconda3\\lib\\site-packages\\sklearn\\linear_model\\least_angle.py:311: ConvergenceWarning: Regressors in active set degenerate. Dropping a regressor, after 126 iterations, i.e. alpha=5.296e-04, with an active set of 98 regressors, and the smallest cholesky pivot element being 2.581e-08. Reduce max_iter or increase eps parameters.\n",
      "  ConvergenceWarning)\n",
      "C:\\Users\\Soumik\\Anaconda3\\lib\\site-packages\\sklearn\\linear_model\\least_angle.py:311: ConvergenceWarning: Regressors in active set degenerate. Dropping a regressor, after 134 iterations, i.e. alpha=4.408e-04, with an active set of 104 regressors, and the smallest cholesky pivot element being 1.490e-08. Reduce max_iter or increase eps parameters.\n",
      "  ConvergenceWarning)\n",
      "C:\\Users\\Soumik\\Anaconda3\\lib\\site-packages\\sklearn\\linear_model\\least_angle.py:311: ConvergenceWarning: Regressors in active set degenerate. Dropping a regressor, after 134 iterations, i.e. alpha=4.408e-04, with an active set of 104 regressors, and the smallest cholesky pivot element being 2.107e-08. Reduce max_iter or increase eps parameters.\n",
      "  ConvergenceWarning)\n",
      "C:\\Users\\Soumik\\Anaconda3\\lib\\site-packages\\sklearn\\linear_model\\least_angle.py:311: ConvergenceWarning: Regressors in active set degenerate. Dropping a regressor, after 144 iterations, i.e. alpha=3.549e-04, with an active set of 108 regressors, and the smallest cholesky pivot element being 2.220e-16. Reduce max_iter or increase eps parameters.\n",
      "  ConvergenceWarning)\n",
      "C:\\Users\\Soumik\\Anaconda3\\lib\\site-packages\\sklearn\\linear_model\\least_angle.py:311: ConvergenceWarning: Regressors in active set degenerate. Dropping a regressor, after 144 iterations, i.e. alpha=3.549e-04, with an active set of 108 regressors, and the smallest cholesky pivot element being 2.220e-16. Reduce max_iter or increase eps parameters.\n",
      "  ConvergenceWarning)\n",
      "C:\\Users\\Soumik\\Anaconda3\\lib\\site-packages\\sklearn\\linear_model\\least_angle.py:311: ConvergenceWarning: Regressors in active set degenerate. Dropping a regressor, after 144 iterations, i.e. alpha=3.549e-04, with an active set of 108 regressors, and the smallest cholesky pivot element being 4.470e-08. Reduce max_iter or increase eps parameters.\n",
      "  ConvergenceWarning)\n",
      "C:\\Users\\Soumik\\Anaconda3\\lib\\site-packages\\sklearn\\linear_model\\least_angle.py:311: ConvergenceWarning: Regressors in active set degenerate. Dropping a regressor, after 144 iterations, i.e. alpha=3.549e-04, with an active set of 108 regressors, and the smallest cholesky pivot element being 5.771e-08. Reduce max_iter or increase eps parameters.\n",
      "  ConvergenceWarning)\n",
      "C:\\Users\\Soumik\\Anaconda3\\lib\\site-packages\\sklearn\\linear_model\\least_angle.py:311: ConvergenceWarning: Regressors in active set degenerate. Dropping a regressor, after 144 iterations, i.e. alpha=3.549e-04, with an active set of 108 regressors, and the smallest cholesky pivot element being 9.424e-08. Reduce max_iter or increase eps parameters.\n",
      "  ConvergenceWarning)\n",
      "C:\\Users\\Soumik\\Anaconda3\\lib\\site-packages\\sklearn\\linear_model\\least_angle.py:311: ConvergenceWarning: Regressors in active set degenerate. Dropping a regressor, after 144 iterations, i.e. alpha=3.549e-04, with an active set of 108 regressors, and the smallest cholesky pivot element being 8.625e-08. Reduce max_iter or increase eps parameters.\n",
      "  ConvergenceWarning)\n",
      "C:\\Users\\Soumik\\Anaconda3\\lib\\site-packages\\sklearn\\linear_model\\least_angle.py:311: ConvergenceWarning: Regressors in active set degenerate. Dropping a regressor, after 144 iterations, i.e. alpha=3.549e-04, with an active set of 108 regressors, and the smallest cholesky pivot element being 7.598e-08. Reduce max_iter or increase eps parameters.\n",
      "  ConvergenceWarning)\n",
      "C:\\Users\\Soumik\\Anaconda3\\lib\\site-packages\\sklearn\\linear_model\\least_angle.py:311: ConvergenceWarning: Regressors in active set degenerate. Dropping a regressor, after 144 iterations, i.e. alpha=3.549e-04, with an active set of 108 regressors, and the smallest cholesky pivot element being 6.829e-08. Reduce max_iter or increase eps parameters.\n",
      "  ConvergenceWarning)\n",
      "C:\\Users\\Soumik\\Anaconda3\\lib\\site-packages\\sklearn\\linear_model\\least_angle.py:311: ConvergenceWarning: Regressors in active set degenerate. Dropping a regressor, after 144 iterations, i.e. alpha=3.549e-04, with an active set of 108 regressors, and the smallest cholesky pivot element being 2.581e-08. Reduce max_iter or increase eps parameters.\n",
      "  ConvergenceWarning)\n",
      "C:\\Users\\Soumik\\Anaconda3\\lib\\site-packages\\sklearn\\linear_model\\least_angle.py:311: ConvergenceWarning: Regressors in active set degenerate. Dropping a regressor, after 144 iterations, i.e. alpha=3.549e-04, with an active set of 108 regressors, and the smallest cholesky pivot element being 1.490e-08. Reduce max_iter or increase eps parameters.\n",
      "  ConvergenceWarning)\n",
      "C:\\Users\\Soumik\\Anaconda3\\lib\\site-packages\\sklearn\\linear_model\\least_angle.py:311: ConvergenceWarning: Regressors in active set degenerate. Dropping a regressor, after 144 iterations, i.e. alpha=3.549e-04, with an active set of 108 regressors, and the smallest cholesky pivot element being 4.470e-08. Reduce max_iter or increase eps parameters.\n",
      "  ConvergenceWarning)\n",
      "C:\\Users\\Soumik\\Anaconda3\\lib\\site-packages\\sklearn\\linear_model\\least_angle.py:311: ConvergenceWarning: Regressors in active set degenerate. Dropping a regressor, after 144 iterations, i.e. alpha=3.549e-04, with an active set of 108 regressors, and the smallest cholesky pivot element being 3.650e-08. Reduce max_iter or increase eps parameters.\n",
      "  ConvergenceWarning)\n",
      "C:\\Users\\Soumik\\Anaconda3\\lib\\site-packages\\sklearn\\linear_model\\least_angle.py:311: ConvergenceWarning: Regressors in active set degenerate. Dropping a regressor, after 144 iterations, i.e. alpha=3.549e-04, with an active set of 108 regressors, and the smallest cholesky pivot element being 6.909e-08. Reduce max_iter or increase eps parameters.\n",
      "  ConvergenceWarning)\n",
      "C:\\Users\\Soumik\\Anaconda3\\lib\\site-packages\\sklearn\\linear_model\\least_angle.py:311: ConvergenceWarning: Regressors in active set degenerate. Dropping a regressor, after 144 iterations, i.e. alpha=3.549e-04, with an active set of 108 regressors, and the smallest cholesky pivot element being 5.960e-08. Reduce max_iter or increase eps parameters.\n",
      "  ConvergenceWarning)\n",
      "C:\\Users\\Soumik\\Anaconda3\\lib\\site-packages\\sklearn\\linear_model\\least_angle.py:311: ConvergenceWarning: Regressors in active set degenerate. Dropping a regressor, after 144 iterations, i.e. alpha=3.549e-04, with an active set of 108 regressors, and the smallest cholesky pivot element being 4.470e-08. Reduce max_iter or increase eps parameters.\n",
      "  ConvergenceWarning)\n",
      "C:\\Users\\Soumik\\Anaconda3\\lib\\site-packages\\sklearn\\linear_model\\least_angle.py:311: ConvergenceWarning: Regressors in active set degenerate. Dropping a regressor, after 144 iterations, i.e. alpha=3.549e-04, with an active set of 108 regressors, and the smallest cholesky pivot element being 9.996e-08. Reduce max_iter or increase eps parameters.\n",
      "  ConvergenceWarning)\n",
      "C:\\Users\\Soumik\\Anaconda3\\lib\\site-packages\\sklearn\\linear_model\\least_angle.py:311: ConvergenceWarning: Regressors in active set degenerate. Dropping a regressor, after 144 iterations, i.e. alpha=3.549e-04, with an active set of 108 regressors, and the smallest cholesky pivot element being 2.107e-08. Reduce max_iter or increase eps parameters.\n",
      "  ConvergenceWarning)\n",
      "C:\\Users\\Soumik\\Anaconda3\\lib\\site-packages\\sklearn\\linear_model\\least_angle.py:311: ConvergenceWarning: Regressors in active set degenerate. Dropping a regressor, after 144 iterations, i.e. alpha=3.549e-04, with an active set of 108 regressors, and the smallest cholesky pivot element being 5.576e-08. Reduce max_iter or increase eps parameters.\n",
      "  ConvergenceWarning)\n",
      "C:\\Users\\Soumik\\Anaconda3\\lib\\site-packages\\sklearn\\linear_model\\least_angle.py:311: ConvergenceWarning: Regressors in active set degenerate. Dropping a regressor, after 145 iterations, i.e. alpha=3.536e-04, with an active set of 109 regressors, and the smallest cholesky pivot element being 6.144e-08. Reduce max_iter or increase eps parameters.\n",
      "  ConvergenceWarning)\n",
      "C:\\Users\\Soumik\\Anaconda3\\lib\\site-packages\\sklearn\\linear_model\\least_angle.py:311: ConvergenceWarning: Regressors in active set degenerate. Dropping a regressor, after 145 iterations, i.e. alpha=3.536e-04, with an active set of 109 regressors, and the smallest cholesky pivot element being 5.771e-08. Reduce max_iter or increase eps parameters.\n",
      "  ConvergenceWarning)\n",
      "C:\\Users\\Soumik\\Anaconda3\\lib\\site-packages\\sklearn\\linear_model\\least_angle.py:311: ConvergenceWarning: Regressors in active set degenerate. Dropping a regressor, after 145 iterations, i.e. alpha=3.536e-04, with an active set of 109 regressors, and the smallest cholesky pivot element being 4.593e-08. Reduce max_iter or increase eps parameters.\n",
      "  ConvergenceWarning)\n",
      "C:\\Users\\Soumik\\Anaconda3\\lib\\site-packages\\sklearn\\linear_model\\least_angle.py:311: ConvergenceWarning: Regressors in active set degenerate. Dropping a regressor, after 159 iterations, i.e. alpha=3.391e-04, with an active set of 109 regressors, and the smallest cholesky pivot element being 7.885e-08. Reduce max_iter or increase eps parameters.\n",
      "  ConvergenceWarning)\n",
      "C:\\Users\\Soumik\\Anaconda3\\lib\\site-packages\\sklearn\\linear_model\\least_angle.py:311: ConvergenceWarning: Regressors in active set degenerate. Dropping a regressor, after 159 iterations, i.e. alpha=3.391e-04, with an active set of 109 regressors, and the smallest cholesky pivot element being 9.771e-08. Reduce max_iter or increase eps parameters.\n",
      "  ConvergenceWarning)\n",
      "C:\\Users\\Soumik\\Anaconda3\\lib\\site-packages\\sklearn\\linear_model\\least_angle.py:311: ConvergenceWarning: Regressors in active set degenerate. Dropping a regressor, after 162 iterations, i.e. alpha=3.390e-04, with an active set of 112 regressors, and the smallest cholesky pivot element being 9.771e-08. Reduce max_iter or increase eps parameters.\n",
      "  ConvergenceWarning)\n"
     ]
    },
    {
     "name": "stderr",
     "output_type": "stream",
     "text": [
      "C:\\Users\\Soumik\\Anaconda3\\lib\\site-packages\\sklearn\\linear_model\\least_angle.py:311: ConvergenceWarning: Regressors in active set degenerate. Dropping a regressor, after 173 iterations, i.e. alpha=3.371e-04, with an active set of 111 regressors, and the smallest cholesky pivot element being 7.814e-08. Reduce max_iter or increase eps parameters.\n",
      "  ConvergenceWarning)\n",
      "C:\\Users\\Soumik\\Anaconda3\\lib\\site-packages\\sklearn\\linear_model\\least_angle.py:311: ConvergenceWarning: Regressors in active set degenerate. Dropping a regressor, after 173 iterations, i.e. alpha=3.371e-04, with an active set of 111 regressors, and the smallest cholesky pivot element being 8.625e-08. Reduce max_iter or increase eps parameters.\n",
      "  ConvergenceWarning)\n",
      "C:\\Users\\Soumik\\Anaconda3\\lib\\site-packages\\sklearn\\linear_model\\least_angle.py:337: ConvergenceWarning: Early stopping the lars path, as the residues are small and the current value of alpha is no longer well controlled. 174 iterations, alpha=3.371e-04, previous alpha=3.371e-04, with an active set of 111 regressors.\n",
      "  ConvergenceWarning)\n",
      "C:\\Users\\Soumik\\Anaconda3\\lib\\site-packages\\sklearn\\linear_model\\least_angle.py:311: ConvergenceWarning: Regressors in active set degenerate. Dropping a regressor, after 68 iterations, i.e. alpha=1.526e-03, with an active set of 60 regressors, and the smallest cholesky pivot element being 1.490e-08. Reduce max_iter or increase eps parameters.\n",
      "  ConvergenceWarning)\n",
      "C:\\Users\\Soumik\\Anaconda3\\lib\\site-packages\\sklearn\\linear_model\\least_angle.py:311: ConvergenceWarning: Regressors in active set degenerate. Dropping a regressor, after 71 iterations, i.e. alpha=1.439e-03, with an active set of 61 regressors, and the smallest cholesky pivot element being 1.054e-08. Reduce max_iter or increase eps parameters.\n",
      "  ConvergenceWarning)\n",
      "C:\\Users\\Soumik\\Anaconda3\\lib\\site-packages\\sklearn\\linear_model\\least_angle.py:311: ConvergenceWarning: Regressors in active set degenerate. Dropping a regressor, after 87 iterations, i.e. alpha=1.101e-03, with an active set of 71 regressors, and the smallest cholesky pivot element being 2.107e-08. Reduce max_iter or increase eps parameters.\n",
      "  ConvergenceWarning)\n",
      "C:\\Users\\Soumik\\Anaconda3\\lib\\site-packages\\sklearn\\linear_model\\least_angle.py:311: ConvergenceWarning: Regressors in active set degenerate. Dropping a regressor, after 87 iterations, i.e. alpha=1.101e-03, with an active set of 71 regressors, and the smallest cholesky pivot element being 2.107e-08. Reduce max_iter or increase eps parameters.\n",
      "  ConvergenceWarning)\n",
      "C:\\Users\\Soumik\\Anaconda3\\lib\\site-packages\\sklearn\\linear_model\\least_angle.py:311: ConvergenceWarning: Regressors in active set degenerate. Dropping a regressor, after 87 iterations, i.e. alpha=1.101e-03, with an active set of 71 regressors, and the smallest cholesky pivot element being 1.490e-08. Reduce max_iter or increase eps parameters.\n",
      "  ConvergenceWarning)\n",
      "C:\\Users\\Soumik\\Anaconda3\\lib\\site-packages\\sklearn\\linear_model\\least_angle.py:311: ConvergenceWarning: Regressors in active set degenerate. Dropping a regressor, after 87 iterations, i.e. alpha=1.101e-03, with an active set of 71 regressors, and the smallest cholesky pivot element being 2.220e-16. Reduce max_iter or increase eps parameters.\n",
      "  ConvergenceWarning)\n",
      "C:\\Users\\Soumik\\Anaconda3\\lib\\site-packages\\sklearn\\linear_model\\least_angle.py:311: ConvergenceWarning: Regressors in active set degenerate. Dropping a regressor, after 87 iterations, i.e. alpha=1.101e-03, with an active set of 71 regressors, and the smallest cholesky pivot element being 9.657e-08. Reduce max_iter or increase eps parameters.\n",
      "  ConvergenceWarning)\n",
      "C:\\Users\\Soumik\\Anaconda3\\lib\\site-packages\\sklearn\\linear_model\\least_angle.py:311: ConvergenceWarning: Regressors in active set degenerate. Dropping a regressor, after 87 iterations, i.e. alpha=1.101e-03, with an active set of 71 regressors, and the smallest cholesky pivot element being 4.215e-08. Reduce max_iter or increase eps parameters.\n",
      "  ConvergenceWarning)\n",
      "C:\\Users\\Soumik\\Anaconda3\\lib\\site-packages\\sklearn\\linear_model\\least_angle.py:311: ConvergenceWarning: Regressors in active set degenerate. Dropping a regressor, after 87 iterations, i.e. alpha=1.101e-03, with an active set of 71 regressors, and the smallest cholesky pivot element being 8.297e-08. Reduce max_iter or increase eps parameters.\n",
      "  ConvergenceWarning)\n",
      "C:\\Users\\Soumik\\Anaconda3\\lib\\site-packages\\sklearn\\linear_model\\least_angle.py:311: ConvergenceWarning: Regressors in active set degenerate. Dropping a regressor, after 87 iterations, i.e. alpha=1.101e-03, with an active set of 71 regressors, and the smallest cholesky pivot element being 9.599e-08. Reduce max_iter or increase eps parameters.\n",
      "  ConvergenceWarning)\n",
      "C:\\Users\\Soumik\\Anaconda3\\lib\\site-packages\\sklearn\\linear_model\\least_angle.py:311: ConvergenceWarning: Regressors in active set degenerate. Dropping a regressor, after 87 iterations, i.e. alpha=1.101e-03, with an active set of 71 regressors, and the smallest cholesky pivot element being 3.161e-08. Reduce max_iter or increase eps parameters.\n",
      "  ConvergenceWarning)\n",
      "C:\\Users\\Soumik\\Anaconda3\\lib\\site-packages\\sklearn\\linear_model\\least_angle.py:311: ConvergenceWarning: Regressors in active set degenerate. Dropping a regressor, after 114 iterations, i.e. alpha=7.746e-04, with an active set of 86 regressors, and the smallest cholesky pivot element being 2.220e-16. Reduce max_iter or increase eps parameters.\n",
      "  ConvergenceWarning)\n",
      "C:\\Users\\Soumik\\Anaconda3\\lib\\site-packages\\sklearn\\linear_model\\least_angle.py:311: ConvergenceWarning: Regressors in active set degenerate. Dropping a regressor, after 114 iterations, i.e. alpha=7.746e-04, with an active set of 86 regressors, and the smallest cholesky pivot element being 3.942e-08. Reduce max_iter or increase eps parameters.\n",
      "  ConvergenceWarning)\n",
      "C:\\Users\\Soumik\\Anaconda3\\lib\\site-packages\\sklearn\\linear_model\\least_angle.py:311: ConvergenceWarning: Regressors in active set degenerate. Dropping a regressor, after 114 iterations, i.e. alpha=7.746e-04, with an active set of 86 regressors, and the smallest cholesky pivot element being 2.220e-16. Reduce max_iter or increase eps parameters.\n",
      "  ConvergenceWarning)\n",
      "C:\\Users\\Soumik\\Anaconda3\\lib\\site-packages\\sklearn\\linear_model\\least_angle.py:311: ConvergenceWarning: Regressors in active set degenerate. Dropping a regressor, after 114 iterations, i.e. alpha=7.746e-04, with an active set of 86 regressors, and the smallest cholesky pivot element being 7.451e-08. Reduce max_iter or increase eps parameters.\n",
      "  ConvergenceWarning)\n",
      "C:\\Users\\Soumik\\Anaconda3\\lib\\site-packages\\sklearn\\linear_model\\least_angle.py:311: ConvergenceWarning: Regressors in active set degenerate. Dropping a regressor, after 114 iterations, i.e. alpha=7.746e-04, with an active set of 86 regressors, and the smallest cholesky pivot element being 2.581e-08. Reduce max_iter or increase eps parameters.\n",
      "  ConvergenceWarning)\n",
      "C:\\Users\\Soumik\\Anaconda3\\lib\\site-packages\\sklearn\\linear_model\\least_angle.py:311: ConvergenceWarning: Regressors in active set degenerate. Dropping a regressor, after 114 iterations, i.e. alpha=7.746e-04, with an active set of 86 regressors, and the smallest cholesky pivot element being 7.300e-08. Reduce max_iter or increase eps parameters.\n",
      "  ConvergenceWarning)\n",
      "C:\\Users\\Soumik\\Anaconda3\\lib\\site-packages\\sklearn\\linear_model\\least_angle.py:311: ConvergenceWarning: Regressors in active set degenerate. Dropping a regressor, after 114 iterations, i.e. alpha=7.746e-04, with an active set of 86 regressors, and the smallest cholesky pivot element being 3.650e-08. Reduce max_iter or increase eps parameters.\n",
      "  ConvergenceWarning)\n",
      "C:\\Users\\Soumik\\Anaconda3\\lib\\site-packages\\sklearn\\linear_model\\least_angle.py:311: ConvergenceWarning: Regressors in active set degenerate. Dropping a regressor, after 114 iterations, i.e. alpha=7.746e-04, with an active set of 86 regressors, and the smallest cholesky pivot element being 2.581e-08. Reduce max_iter or increase eps parameters.\n",
      "  ConvergenceWarning)\n",
      "C:\\Users\\Soumik\\Anaconda3\\lib\\site-packages\\sklearn\\linear_model\\least_angle.py:311: ConvergenceWarning: Regressors in active set degenerate. Dropping a regressor, after 114 iterations, i.e. alpha=7.746e-04, with an active set of 86 regressors, and the smallest cholesky pivot element being 5.960e-08. Reduce max_iter or increase eps parameters.\n",
      "  ConvergenceWarning)\n",
      "C:\\Users\\Soumik\\Anaconda3\\lib\\site-packages\\sklearn\\linear_model\\least_angle.py:311: ConvergenceWarning: Regressors in active set degenerate. Dropping a regressor, after 114 iterations, i.e. alpha=7.746e-04, with an active set of 86 regressors, and the smallest cholesky pivot element being 8.689e-08. Reduce max_iter or increase eps parameters.\n",
      "  ConvergenceWarning)\n",
      "C:\\Users\\Soumik\\Anaconda3\\lib\\site-packages\\sklearn\\linear_model\\least_angle.py:311: ConvergenceWarning: Regressors in active set degenerate. Dropping a regressor, after 114 iterations, i.e. alpha=7.746e-04, with an active set of 86 regressors, and the smallest cholesky pivot element being 6.664e-08. Reduce max_iter or increase eps parameters.\n",
      "  ConvergenceWarning)\n",
      "C:\\Users\\Soumik\\Anaconda3\\lib\\site-packages\\sklearn\\linear_model\\least_angle.py:311: ConvergenceWarning: Regressors in active set degenerate. Dropping a regressor, after 114 iterations, i.e. alpha=7.746e-04, with an active set of 86 regressors, and the smallest cholesky pivot element being 9.599e-08. Reduce max_iter or increase eps parameters.\n",
      "  ConvergenceWarning)\n",
      "C:\\Users\\Soumik\\Anaconda3\\lib\\site-packages\\sklearn\\linear_model\\least_angle.py:311: ConvergenceWarning: Regressors in active set degenerate. Dropping a regressor, after 114 iterations, i.e. alpha=7.746e-04, with an active set of 86 regressors, and the smallest cholesky pivot element being 7.146e-08. Reduce max_iter or increase eps parameters.\n",
      "  ConvergenceWarning)\n",
      "C:\\Users\\Soumik\\Anaconda3\\lib\\site-packages\\sklearn\\linear_model\\least_angle.py:311: ConvergenceWarning: Regressors in active set degenerate. Dropping a regressor, after 114 iterations, i.e. alpha=7.746e-04, with an active set of 86 regressors, and the smallest cholesky pivot element being 7.955e-08. Reduce max_iter or increase eps parameters.\n",
      "  ConvergenceWarning)\n",
      "C:\\Users\\Soumik\\Anaconda3\\lib\\site-packages\\sklearn\\linear_model\\least_angle.py:311: ConvergenceWarning: Regressors in active set degenerate. Dropping a regressor, after 114 iterations, i.e. alpha=7.746e-04, with an active set of 86 regressors, and the smallest cholesky pivot element being 3.799e-08. Reduce max_iter or increase eps parameters.\n",
      "  ConvergenceWarning)\n",
      "C:\\Users\\Soumik\\Anaconda3\\lib\\site-packages\\sklearn\\linear_model\\least_angle.py:311: ConvergenceWarning: Regressors in active set degenerate. Dropping a regressor, after 121 iterations, i.e. alpha=6.758e-04, with an active set of 91 regressors, and the smallest cholesky pivot element being 4.942e-08. Reduce max_iter or increase eps parameters.\n",
      "  ConvergenceWarning)\n",
      "C:\\Users\\Soumik\\Anaconda3\\lib\\site-packages\\sklearn\\linear_model\\least_angle.py:311: ConvergenceWarning: Regressors in active set degenerate. Dropping a regressor, after 127 iterations, i.e. alpha=6.409e-04, with an active set of 93 regressors, and the smallest cholesky pivot element being 1.490e-08. Reduce max_iter or increase eps parameters.\n",
      "  ConvergenceWarning)\n",
      "C:\\Users\\Soumik\\Anaconda3\\lib\\site-packages\\sklearn\\linear_model\\least_angle.py:311: ConvergenceWarning: Regressors in active set degenerate. Dropping a regressor, after 129 iterations, i.e. alpha=6.370e-04, with an active set of 95 regressors, and the smallest cholesky pivot element being 4.942e-08. Reduce max_iter or increase eps parameters.\n",
      "  ConvergenceWarning)\n",
      "C:\\Users\\Soumik\\Anaconda3\\lib\\site-packages\\sklearn\\linear_model\\least_angle.py:311: ConvergenceWarning: Regressors in active set degenerate. Dropping a regressor, after 129 iterations, i.e. alpha=6.370e-04, with an active set of 95 regressors, and the smallest cholesky pivot element being 2.220e-16. Reduce max_iter or increase eps parameters.\n",
      "  ConvergenceWarning)\n",
      "C:\\Users\\Soumik\\Anaconda3\\lib\\site-packages\\sklearn\\linear_model\\least_angle.py:311: ConvergenceWarning: Regressors in active set degenerate. Dropping a regressor, after 134 iterations, i.e. alpha=5.872e-04, with an active set of 100 regressors, and the smallest cholesky pivot element being 2.107e-08. Reduce max_iter or increase eps parameters.\n",
      "  ConvergenceWarning)\n",
      "C:\\Users\\Soumik\\Anaconda3\\lib\\site-packages\\sklearn\\linear_model\\least_angle.py:311: ConvergenceWarning: Regressors in active set degenerate. Dropping a regressor, after 136 iterations, i.e. alpha=5.826e-04, with an active set of 100 regressors, and the smallest cholesky pivot element being 3.495e-08. Reduce max_iter or increase eps parameters.\n",
      "  ConvergenceWarning)\n",
      "C:\\Users\\Soumik\\Anaconda3\\lib\\site-packages\\sklearn\\linear_model\\least_angle.py:311: ConvergenceWarning: Regressors in active set degenerate. Dropping a regressor, after 136 iterations, i.e. alpha=5.826e-04, with an active set of 100 regressors, and the smallest cholesky pivot element being 3.495e-08. Reduce max_iter or increase eps parameters.\n",
      "  ConvergenceWarning)\n",
      "C:\\Users\\Soumik\\Anaconda3\\lib\\site-packages\\sklearn\\linear_model\\least_angle.py:311: ConvergenceWarning: Regressors in active set degenerate. Dropping a regressor, after 136 iterations, i.e. alpha=5.819e-04, with an active set of 100 regressors, and the smallest cholesky pivot element being 2.220e-16. Reduce max_iter or increase eps parameters.\n",
      "  ConvergenceWarning)\n",
      "C:\\Users\\Soumik\\Anaconda3\\lib\\site-packages\\sklearn\\linear_model\\least_angle.py:337: ConvergenceWarning: Early stopping the lars path, as the residues are small and the current value of alpha is no longer well controlled. 141 iterations, alpha=5.565e-04, previous alpha=5.546e-04, with an active set of 104 regressors.\n",
      "  ConvergenceWarning)\n"
     ]
    },
    {
     "name": "stderr",
     "output_type": "stream",
     "text": [
      "C:\\Users\\Soumik\\Anaconda3\\lib\\site-packages\\sklearn\\linear_model\\least_angle.py:311: ConvergenceWarning: Regressors in active set degenerate. Dropping a regressor, after 80 iterations, i.e. alpha=9.847e-04, with an active set of 68 regressors, and the smallest cholesky pivot element being 2.220e-16. Reduce max_iter or increase eps parameters.\n",
      "  ConvergenceWarning)\n",
      "C:\\Users\\Soumik\\Anaconda3\\lib\\site-packages\\sklearn\\linear_model\\least_angle.py:311: ConvergenceWarning: Regressors in active set degenerate. Dropping a regressor, after 120 iterations, i.e. alpha=5.042e-04, with an active set of 92 regressors, and the smallest cholesky pivot element being 2.107e-08. Reduce max_iter or increase eps parameters.\n",
      "  ConvergenceWarning)\n",
      "C:\\Users\\Soumik\\Anaconda3\\lib\\site-packages\\sklearn\\linear_model\\least_angle.py:311: ConvergenceWarning: Regressors in active set degenerate. Dropping a regressor, after 120 iterations, i.e. alpha=5.042e-04, with an active set of 92 regressors, and the smallest cholesky pivot element being 1.490e-08. Reduce max_iter or increase eps parameters.\n",
      "  ConvergenceWarning)\n",
      "C:\\Users\\Soumik\\Anaconda3\\lib\\site-packages\\sklearn\\linear_model\\least_angle.py:311: ConvergenceWarning: Regressors in active set degenerate. Dropping a regressor, after 120 iterations, i.e. alpha=5.042e-04, with an active set of 92 regressors, and the smallest cholesky pivot element being 7.743e-08. Reduce max_iter or increase eps parameters.\n",
      "  ConvergenceWarning)\n",
      "C:\\Users\\Soumik\\Anaconda3\\lib\\site-packages\\sklearn\\linear_model\\least_angle.py:311: ConvergenceWarning: Regressors in active set degenerate. Dropping a regressor, after 120 iterations, i.e. alpha=5.042e-04, with an active set of 92 regressors, and the smallest cholesky pivot element being 2.220e-16. Reduce max_iter or increase eps parameters.\n",
      "  ConvergenceWarning)\n",
      "C:\\Users\\Soumik\\Anaconda3\\lib\\site-packages\\sklearn\\linear_model\\least_angle.py:311: ConvergenceWarning: Regressors in active set degenerate. Dropping a regressor, after 120 iterations, i.e. alpha=5.042e-04, with an active set of 92 regressors, and the smallest cholesky pivot element being 2.220e-16. Reduce max_iter or increase eps parameters.\n",
      "  ConvergenceWarning)\n",
      "C:\\Users\\Soumik\\Anaconda3\\lib\\site-packages\\sklearn\\linear_model\\least_angle.py:311: ConvergenceWarning: Regressors in active set degenerate. Dropping a regressor, after 120 iterations, i.e. alpha=5.042e-04, with an active set of 92 regressors, and the smallest cholesky pivot element being 3.942e-08. Reduce max_iter or increase eps parameters.\n",
      "  ConvergenceWarning)\n",
      "C:\\Users\\Soumik\\Anaconda3\\lib\\site-packages\\sklearn\\linear_model\\least_angle.py:311: ConvergenceWarning: Regressors in active set degenerate. Dropping a regressor, after 120 iterations, i.e. alpha=5.042e-04, with an active set of 92 regressors, and the smallest cholesky pivot element being 7.743e-08. Reduce max_iter or increase eps parameters.\n",
      "  ConvergenceWarning)\n",
      "C:\\Users\\Soumik\\Anaconda3\\lib\\site-packages\\sklearn\\linear_model\\least_angle.py:311: ConvergenceWarning: Regressors in active set degenerate. Dropping a regressor, after 120 iterations, i.e. alpha=5.042e-04, with an active set of 92 regressors, and the smallest cholesky pivot element being 3.650e-08. Reduce max_iter or increase eps parameters.\n",
      "  ConvergenceWarning)\n",
      "C:\\Users\\Soumik\\Anaconda3\\lib\\site-packages\\sklearn\\linear_model\\least_angle.py:311: ConvergenceWarning: Regressors in active set degenerate. Dropping a regressor, after 120 iterations, i.e. alpha=5.042e-04, with an active set of 92 regressors, and the smallest cholesky pivot element being 5.771e-08. Reduce max_iter or increase eps parameters.\n",
      "  ConvergenceWarning)\n",
      "C:\\Users\\Soumik\\Anaconda3\\lib\\site-packages\\sklearn\\linear_model\\least_angle.py:311: ConvergenceWarning: Regressors in active set degenerate. Dropping a regressor, after 120 iterations, i.e. alpha=5.042e-04, with an active set of 92 regressors, and the smallest cholesky pivot element being 2.356e-08. Reduce max_iter or increase eps parameters.\n",
      "  ConvergenceWarning)\n",
      "C:\\Users\\Soumik\\Anaconda3\\lib\\site-packages\\sklearn\\linear_model\\least_angle.py:311: ConvergenceWarning: Regressors in active set degenerate. Dropping a regressor, after 120 iterations, i.e. alpha=5.042e-04, with an active set of 92 regressors, and the smallest cholesky pivot element being 5.373e-08. Reduce max_iter or increase eps parameters.\n",
      "  ConvergenceWarning)\n",
      "C:\\Users\\Soumik\\Anaconda3\\lib\\site-packages\\sklearn\\linear_model\\least_angle.py:311: ConvergenceWarning: Regressors in active set degenerate. Dropping a regressor, after 120 iterations, i.e. alpha=5.042e-04, with an active set of 92 regressors, and the smallest cholesky pivot element being 5.162e-08. Reduce max_iter or increase eps parameters.\n",
      "  ConvergenceWarning)\n",
      "C:\\Users\\Soumik\\Anaconda3\\lib\\site-packages\\sklearn\\linear_model\\least_angle.py:311: ConvergenceWarning: Regressors in active set degenerate. Dropping a regressor, after 120 iterations, i.e. alpha=5.042e-04, with an active set of 92 regressors, and the smallest cholesky pivot element being 2.980e-08. Reduce max_iter or increase eps parameters.\n",
      "  ConvergenceWarning)\n",
      "C:\\Users\\Soumik\\Anaconda3\\lib\\site-packages\\sklearn\\linear_model\\least_angle.py:311: ConvergenceWarning: Regressors in active set degenerate. Dropping a regressor, after 120 iterations, i.e. alpha=5.042e-04, with an active set of 92 regressors, and the smallest cholesky pivot element being 7.598e-08. Reduce max_iter or increase eps parameters.\n",
      "  ConvergenceWarning)\n",
      "C:\\Users\\Soumik\\Anaconda3\\lib\\site-packages\\sklearn\\linear_model\\least_angle.py:311: ConvergenceWarning: Regressors in active set degenerate. Dropping a regressor, after 120 iterations, i.e. alpha=5.042e-04, with an active set of 92 regressors, and the smallest cholesky pivot element being 5.576e-08. Reduce max_iter or increase eps parameters.\n",
      "  ConvergenceWarning)\n",
      "C:\\Users\\Soumik\\Anaconda3\\lib\\site-packages\\sklearn\\linear_model\\least_angle.py:311: ConvergenceWarning: Regressors in active set degenerate. Dropping a regressor, after 120 iterations, i.e. alpha=5.042e-04, with an active set of 92 regressors, and the smallest cholesky pivot element being 1.054e-08. Reduce max_iter or increase eps parameters.\n",
      "  ConvergenceWarning)\n",
      "C:\\Users\\Soumik\\Anaconda3\\lib\\site-packages\\sklearn\\linear_model\\least_angle.py:311: ConvergenceWarning: Regressors in active set degenerate. Dropping a regressor, after 120 iterations, i.e. alpha=5.042e-04, with an active set of 92 regressors, and the smallest cholesky pivot element being 6.144e-08. Reduce max_iter or increase eps parameters.\n",
      "  ConvergenceWarning)\n",
      "C:\\Users\\Soumik\\Anaconda3\\lib\\site-packages\\sklearn\\linear_model\\least_angle.py:311: ConvergenceWarning: Regressors in active set degenerate. Dropping a regressor, after 120 iterations, i.e. alpha=5.042e-04, with an active set of 92 regressors, and the smallest cholesky pivot element being 3.799e-08. Reduce max_iter or increase eps parameters.\n",
      "  ConvergenceWarning)\n",
      "C:\\Users\\Soumik\\Anaconda3\\lib\\site-packages\\sklearn\\linear_model\\least_angle.py:311: ConvergenceWarning: Regressors in active set degenerate. Dropping a regressor, after 120 iterations, i.e. alpha=5.042e-04, with an active set of 92 regressors, and the smallest cholesky pivot element being 5.268e-08. Reduce max_iter or increase eps parameters.\n",
      "  ConvergenceWarning)\n",
      "C:\\Users\\Soumik\\Anaconda3\\lib\\site-packages\\sklearn\\linear_model\\least_angle.py:311: ConvergenceWarning: Regressors in active set degenerate. Dropping a regressor, after 120 iterations, i.e. alpha=5.042e-04, with an active set of 92 regressors, and the smallest cholesky pivot element being 5.960e-08. Reduce max_iter or increase eps parameters.\n",
      "  ConvergenceWarning)\n",
      "C:\\Users\\Soumik\\Anaconda3\\lib\\site-packages\\sklearn\\linear_model\\least_angle.py:311: ConvergenceWarning: Regressors in active set degenerate. Dropping a regressor, after 120 iterations, i.e. alpha=5.042e-04, with an active set of 92 regressors, and the smallest cholesky pivot element being 4.344e-08. Reduce max_iter or increase eps parameters.\n",
      "  ConvergenceWarning)\n",
      "C:\\Users\\Soumik\\Anaconda3\\lib\\site-packages\\sklearn\\linear_model\\least_angle.py:311: ConvergenceWarning: Regressors in active set degenerate. Dropping a regressor, after 120 iterations, i.e. alpha=5.042e-04, with an active set of 92 regressors, and the smallest cholesky pivot element being 9.246e-08. Reduce max_iter or increase eps parameters.\n",
      "  ConvergenceWarning)\n",
      "C:\\Users\\Soumik\\Anaconda3\\lib\\site-packages\\sklearn\\linear_model\\least_angle.py:311: ConvergenceWarning: Regressors in active set degenerate. Dropping a regressor, after 120 iterations, i.e. alpha=5.042e-04, with an active set of 92 regressors, and the smallest cholesky pivot element being 5.162e-08. Reduce max_iter or increase eps parameters.\n",
      "  ConvergenceWarning)\n",
      "C:\\Users\\Soumik\\Anaconda3\\lib\\site-packages\\sklearn\\linear_model\\least_angle.py:311: ConvergenceWarning: Regressors in active set degenerate. Dropping a regressor, after 120 iterations, i.e. alpha=5.042e-04, with an active set of 92 regressors, and the smallest cholesky pivot element being 4.215e-08. Reduce max_iter or increase eps parameters.\n",
      "  ConvergenceWarning)\n",
      "C:\\Users\\Soumik\\Anaconda3\\lib\\site-packages\\sklearn\\linear_model\\least_angle.py:311: ConvergenceWarning: Regressors in active set degenerate. Dropping a regressor, after 120 iterations, i.e. alpha=5.025e-04, with an active set of 92 regressors, and the smallest cholesky pivot element being 6.322e-08. Reduce max_iter or increase eps parameters.\n",
      "  ConvergenceWarning)\n",
      "C:\\Users\\Soumik\\Anaconda3\\lib\\site-packages\\sklearn\\linear_model\\least_angle.py:337: ConvergenceWarning: Early stopping the lars path, as the residues are small and the current value of alpha is no longer well controlled. 124 iterations, alpha=4.882e-04, previous alpha=4.864e-04, with an active set of 93 regressors.\n",
      "  ConvergenceWarning)\n"
     ]
    },
    {
     "data": {
      "text/plain": [
       "LassoLarsCV(copy_X=True, cv='warn', eps=2.220446049250313e-16,\n",
       "      fit_intercept=True, max_iter=500, max_n_alphas=1000, n_jobs=None,\n",
       "      normalize=True, positive=False, precompute='auto', verbose=False)"
      ]
     },
     "execution_count": 301,
     "metadata": {},
     "output_type": "execute_result"
    }
   ],
   "source": [
    "lin = LassoLarsCV()\n",
    "lin.fit(train.values, y.values)"
   ]
  },
  {
   "cell_type": "code",
   "execution_count": 303,
   "metadata": {},
   "outputs": [],
   "source": [
    "pred = lin.predict(test.values)"
   ]
  },
  {
   "cell_type": "code",
   "execution_count": 309,
   "metadata": {},
   "outputs": [
    {
     "data": {
      "text/plain": [
       "93"
      ]
     },
     "execution_count": 309,
     "metadata": {},
     "output_type": "execute_result"
    }
   ],
   "source": [
    "(lin.coef_ != 0).sum()"
   ]
  },
  {
   "cell_type": "code",
   "execution_count": 308,
   "metadata": {},
   "outputs": [
    {
     "data": {
      "text/plain": [
       "1.0286703157133728"
      ]
     },
     "execution_count": 308,
     "metadata": {},
     "output_type": "execute_result"
    }
   ],
   "source": [
    "np.sqrt(mean_squared_error(y_test, pred**(40/103)))"
   ]
  },
  {
   "cell_type": "code",
   "execution_count": 290,
   "metadata": {},
   "outputs": [
    {
     "data": {
      "text/plain": [
       "((170712, 336), (170712,))"
      ]
     },
     "execution_count": 290,
     "metadata": {},
     "output_type": "execute_result"
    }
   ],
   "source": [
    "train.shape, y.shape"
   ]
  },
  {
   "cell_type": "code",
   "execution_count": 273,
   "metadata": {},
   "outputs": [
    {
     "name": "stdout",
     "output_type": "stream",
     "text": [
      "channel_code                          int64\n",
      "main_product_code                     int64\n",
      "numberofadults                        int64\n",
      "numberofchildren                      int64\n",
      "persontravellingid                    int64\n",
      "resort_region_code                    int64\n",
      "resort_type_code                      int64\n",
      "room_type_booked_code                 int64\n",
      "roomnights                            int64\n",
      "season_holidayed_code               float64\n",
      "state_code_residence                float64\n",
      "state_code_resort                     int64\n",
      "total_pax                             int64\n",
      "member_age_buckets                    int32\n",
      "booking_type_code                     int64\n",
      "memberid                              int32\n",
      "cluster_code                          int32\n",
      "reservationstatusid_code              int32\n",
      "resort_id                             int32\n",
      "booking_Year                          int64\n",
      "booking_Month                         int64\n",
      "booking_Week                          int64\n",
      "booking_Day                           int64\n",
      "booking_Dayofweek                     int64\n",
      "booking_Dayofyear                     int64\n",
      "booking_Is_month_end                   bool\n",
      "booking_Is_month_start                 bool\n",
      "booking_Is_quarter_end                 bool\n",
      "booking_Is_quarter_start               bool\n",
      "booking_Is_year_end                    bool\n",
      "booking_Is_year_start                  bool\n",
      "booking_Elapsed                       int64\n",
      "checkin_Year                          int64\n",
      "checkin_Month                         int64\n",
      "checkin_Week                          int64\n",
      "checkin_Day                           int64\n",
      "checkin_Dayofweek                     int64\n",
      "checkin_Dayofyear                     int64\n",
      "checkin_Is_month_end                   bool\n",
      "checkin_Is_month_start                 bool\n",
      "checkin_Is_quarter_end                 bool\n",
      "checkin_Is_quarter_start               bool\n",
      "checkin_Is_year_end                    bool\n",
      "checkin_Is_year_start                  bool\n",
      "checkin_Elapsed                       int64\n",
      "checkout_Year                         int64\n",
      "checkout_Month                        int64\n",
      "checkout_Week                         int64\n",
      "checkout_Day                          int64\n",
      "checkout_Dayofweek                    int64\n",
      "checkout_Dayofyear                    int64\n",
      "checkout_Is_month_end                  bool\n",
      "checkout_Is_month_start                bool\n",
      "checkout_Is_quarter_end                bool\n",
      "checkout_Is_quarter_start              bool\n",
      "checkout_Is_year_end                   bool\n",
      "checkout_Is_year_start                 bool\n",
      "checkout_Elapsed                      int64\n",
      "channel_code_counts                   int64\n",
      "main_product_code_counts              int64\n",
      "numberofadults_counts                 int64\n",
      "numberofchildren_counts               int64\n",
      "persontravellingid_counts             int64\n",
      "resort_region_code_counts             int64\n",
      "resort_type_code_counts               int64\n",
      "room_type_booked_code_counts          int64\n",
      "roomnights_counts                     int64\n",
      "season_holidayed_code_counts          int64\n",
      "state_code_residence_counts           int64\n",
      "state_code_resort_counts              int64\n",
      "total_pax_counts                      int64\n",
      "member_age_buckets_counts             int64\n",
      "booking_type_code_counts              int64\n",
      "memberid_counts                       int64\n",
      "cluster_code_counts                   int64\n",
      "reservationstatusid_code_counts       int64\n",
      "resort_id_counts                      int64\n",
      "booking_Year_counts                   int64\n",
      "booking_Month_counts                  int64\n",
      "booking_Week_counts                   int64\n",
      "booking_Day_counts                    int64\n",
      "booking_Dayofweek_counts              int64\n",
      "booking_Dayofyear_counts              int64\n",
      "booking_Is_month_end_counts           int64\n",
      "booking_Is_month_start_counts         int64\n",
      "booking_Is_quarter_end_counts         int64\n",
      "booking_Is_quarter_start_counts       int64\n",
      "booking_Is_year_end_counts            int64\n",
      "booking_Is_year_start_counts          int64\n",
      "booking_Elapsed_counts                int64\n",
      "checkin_Year_counts                   int64\n",
      "checkin_Month_counts                  int64\n",
      "checkin_Week_counts                   int64\n",
      "checkin_Day_counts                    int64\n",
      "checkin_Dayofweek_counts              int64\n",
      "checkin_Dayofyear_counts              int64\n",
      "checkin_Is_month_end_counts           int64\n",
      "checkin_Is_month_start_counts         int64\n",
      "checkin_Is_quarter_end_counts         int64\n",
      "checkin_Is_quarter_start_counts       int64\n",
      "checkin_Is_year_end_counts            int64\n",
      "checkin_Is_year_start_counts          int64\n",
      "checkin_Elapsed_counts                int64\n",
      "checkout_Year_counts                  int64\n",
      "checkout_Month_counts                 int64\n",
      "checkout_Week_counts                  int64\n",
      "checkout_Day_counts                   int64\n",
      "checkout_Dayofweek_counts             int64\n",
      "checkout_Dayofyear_counts             int64\n",
      "checkout_Is_month_end_counts          int64\n",
      "checkout_Is_month_start_counts        int64\n",
      "checkout_Is_quarter_end_counts        int64\n",
      "checkout_Is_quarter_start_counts      int64\n",
      "checkout_Is_year_end_counts           int64\n",
      "checkout_Is_year_start_counts         int64\n",
      "checkout_Elapsed_counts               int64\n",
      "numberofadultsmean_x                float64\n",
      "numberofadultsstd_x                 float64\n",
      "numberofadultssum_x                   int64\n",
      "numberofchildrenmean_x              float64\n",
      "numberofchildrenstd_x               float64\n",
      "numberofchildrensum_x                 int64\n",
      "roomnightsmean_x                    float64\n",
      "roomnightsstd_x                     float64\n",
      "roomnightssum_x                       int64\n",
      "total_paxmean_x                     float64\n",
      "total_paxstd_x                      float64\n",
      "total_paxsum_x                        int64\n",
      "numberofadultsmean_y                float64\n",
      "numberofadultsstd_y                 float64\n",
      "numberofadultssum_y                   int64\n",
      "numberofchildrenmean_y              float64\n",
      "numberofchildrenstd_y               float64\n",
      "numberofchildrensum_y                 int64\n",
      "roomnightsmean_y                    float64\n",
      "roomnightsstd_y                     float64\n",
      "roomnightssum_y                       int64\n",
      "total_paxmean_y                     float64\n",
      "total_paxstd_y                      float64\n",
      "total_paxsum_y                        int64\n",
      "numberofadultsmean_x                float64\n",
      "numberofadultsstd_x                 float64\n",
      "numberofadultssum_x                   int64\n",
      "numberofchildrenmean_x              float64\n",
      "numberofchildrenstd_x               float64\n",
      "numberofchildrensum_x                 int64\n",
      "roomnightsmean_x                    float64\n",
      "roomnightsstd_x                     float64\n",
      "roomnightssum_x                       int64\n",
      "total_paxmean_x                     float64\n",
      "total_paxstd_x                      float64\n",
      "total_paxsum_x                        int64\n",
      "numberofadultsmean_y                float64\n",
      "numberofadultsstd_y                 float64\n",
      "numberofadultssum_y                   int64\n",
      "numberofchildrenmean_y              float64\n",
      "numberofchildrenstd_y               float64\n",
      "numberofchildrensum_y                 int64\n",
      "roomnightsmean_y                    float64\n",
      "roomnightsstd_y                     float64\n",
      "roomnightssum_y                       int64\n",
      "total_paxmean_y                     float64\n",
      "total_paxstd_y                      float64\n",
      "total_paxsum_y                        int64\n",
      "numberofadultsmean_x                float64\n",
      "numberofadultsstd_x                 float64\n",
      "numberofadultssum_x                   int64\n",
      "numberofchildrenmean_x              float64\n",
      "numberofchildrenstd_x               float64\n",
      "numberofchildrensum_x                 int64\n",
      "roomnightsmean_x                    float64\n",
      "roomnightsstd_x                     float64\n",
      "roomnightssum_x                       int64\n",
      "total_paxmean_x                     float64\n",
      "total_paxstd_x                      float64\n",
      "total_paxsum_x                        int64\n",
      "numberofadultsmean_y                float64\n",
      "numberofadultsstd_y                 float64\n",
      "numberofadultssum_y                   int64\n",
      "numberofchildrenmean_y              float64\n",
      "numberofchildrenstd_y               float64\n",
      "numberofchildrensum_y                 int64\n",
      "roomnightsmean_y                    float64\n",
      "roomnightsstd_y                     float64\n",
      "roomnightssum_y                       int64\n",
      "total_paxmean_y                     float64\n",
      "total_paxstd_y                      float64\n",
      "total_paxsum_y                        int64\n",
      "numberofadultsmean_x                float64\n",
      "numberofadultsstd_x                 float64\n",
      "numberofadultssum_x                   int64\n",
      "numberofchildrenmean_x              float64\n",
      "numberofchildrenstd_x               float64\n",
      "numberofchildrensum_x                 int64\n",
      "roomnightsmean_x                    float64\n",
      "roomnightsstd_x                     float64\n",
      "roomnightssum_x                       int64\n",
      "total_paxmean_x                     float64\n",
      "total_paxstd_x                      float64\n",
      "total_paxsum_x                        int64\n",
      "numberofadultsmean_y                float64\n",
      "numberofadultsstd_y                 float64\n",
      "numberofadultssum_y                   int64\n",
      "numberofchildrenmean_y              float64\n",
      "numberofchildrenstd_y               float64\n",
      "numberofchildrensum_y                 int64\n",
      "roomnightsmean_y                    float64\n",
      "roomnightsstd_y                     float64\n",
      "roomnightssum_y                       int64\n",
      "total_paxmean_y                     float64\n",
      "total_paxstd_y                      float64\n",
      "total_paxsum_y                        int64\n",
      "numberofadultsmean_x                float64\n",
      "numberofadultsstd_x                 float64\n",
      "numberofadultssum_x                   int64\n",
      "numberofchildrenmean_x              float64\n",
      "numberofchildrenstd_x               float64\n",
      "numberofchildrensum_x                 int64\n",
      "roomnightsmean_x                    float64\n",
      "roomnightsstd_x                     float64\n",
      "roomnightssum_x                       int64\n",
      "total_paxmean_x                     float64\n",
      "total_paxstd_x                      float64\n",
      "total_paxsum_x                        int64\n",
      "numberofadultsmean_y                float64\n",
      "numberofadultsstd_y                 float64\n",
      "numberofadultssum_y                   int64\n",
      "numberofchildrenmean_y              float64\n",
      "numberofchildrenstd_y               float64\n",
      "numberofchildrensum_y                 int64\n",
      "roomnightsmean_y                    float64\n",
      "roomnightsstd_y                     float64\n",
      "roomnightssum_y                       int64\n",
      "total_paxmean_y                     float64\n",
      "total_paxstd_y                      float64\n",
      "total_paxsum_y                        int64\n",
      "numberofadultsmean_x                float64\n",
      "numberofadultsstd_x                 float64\n",
      "numberofadultssum_x                   int64\n",
      "numberofchildrenmean_x              float64\n",
      "numberofchildrenstd_x               float64\n",
      "numberofchildrensum_x                 int64\n",
      "roomnightsmean_x                    float64\n",
      "roomnightsstd_x                     float64\n",
      "roomnightssum_x                       int64\n",
      "total_paxmean_x                     float64\n",
      "total_paxstd_x                      float64\n",
      "total_paxsum_x                        int64\n",
      "numberofadultsmean_y                float64\n",
      "numberofadultsstd_y                 float64\n",
      "numberofadultssum_y                   int64\n",
      "numberofchildrenmean_y              float64\n",
      "numberofchildrenstd_y               float64\n",
      "numberofchildrensum_y                 int64\n",
      "roomnightsmean_y                    float64\n",
      "roomnightsstd_y                     float64\n",
      "roomnightssum_y                       int64\n",
      "total_paxmean_y                     float64\n",
      "total_paxstd_y                      float64\n",
      "total_paxsum_y                        int64\n",
      "numberofadultsmean_x                float64\n",
      "numberofadultsstd_x                 float64\n",
      "numberofadultssum_x                   int64\n",
      "numberofchildrenmean_x              float64\n",
      "numberofchildrenstd_x               float64\n",
      "numberofchildrensum_x                 int64\n",
      "roomnightsmean_x                    float64\n",
      "roomnightsstd_x                     float64\n",
      "roomnightssum_x                       int64\n",
      "total_paxmean_x                     float64\n",
      "total_paxstd_x                      float64\n",
      "total_paxsum_x                        int64\n",
      "numberofadultsmean_y                float64\n",
      "numberofadultsstd_y                 float64\n",
      "numberofadultssum_y                   int64\n",
      "numberofchildrenmean_y              float64\n",
      "numberofchildrenstd_y               float64\n",
      "numberofchildrensum_y                 int64\n",
      "roomnightsmean_y                    float64\n",
      "roomnightsstd_y                     float64\n",
      "roomnightssum_y                       int64\n",
      "total_paxmean_y                     float64\n",
      "total_paxstd_y                      float64\n",
      "total_paxsum_y                        int64\n",
      "numberofadultsmean                  float64\n",
      "numberofadultsstd                   float64\n",
      "numberofadultssum                     int64\n",
      "numberofchildrenmean                float64\n",
      "numberofchildrenstd                 float64\n",
      "numberofchildrensum                   int64\n",
      "roomnightsmean                      float64\n",
      "roomnightsstd                       float64\n",
      "roomnightssum                         int64\n",
      "total_paxmean                       float64\n",
      "total_paxstd                        float64\n",
      "total_paxsum                          int64\n",
      "sq_numberofadults                     int64\n",
      "repo_numberofadults                 float64\n",
      "sq_numberofchildren                   int64\n",
      "repo_numberofchildren               float64\n",
      "sq_roomnights                         int64\n",
      "repo_roomnights                     float64\n",
      "sq_total_pax                          int64\n",
      "repo_total_pax                      float64\n",
      "min                                   int64\n",
      "mean                                float64\n",
      "max                                   int64\n",
      "median                              float64\n",
      "std                                 float64\n",
      "var                                 float64\n",
      "abs_mean                            float64\n",
      "abs_median                          float64\n",
      "abs_std                             float64\n",
      "skew                                float64\n",
      "kurt                                float64\n",
      "sq_kurt                             float64\n",
      "numberofadults-numberofchildren       int64\n",
      "numberofadults+numberofchildren       int64\n",
      "numberofadults*numberofchildren       int64\n",
      "numberofadults/numberofchildren     float64\n",
      "numberofadults-roomnights             int64\n",
      "numberofadults+roomnights             int64\n",
      "numberofadults*roomnights             int64\n",
      "numberofadults/roomnights           float64\n",
      "numberofadults-total_pax              int64\n",
      "numberofadults+total_pax              int64\n",
      "numberofadults*total_pax              int64\n",
      "numberofadults/total_pax            float64\n",
      "numberofchildren-numberofadults       int64\n",
      "numberofchildren+numberofadults       int64\n",
      "numberofchildren*numberofadults       int64\n",
      "numberofchildren/numberofadults     float64\n",
      "numberofchildren-roomnights           int64\n",
      "numberofchildren+roomnights           int64\n",
      "numberofchildren*roomnights           int64\n",
      "numberofchildren/roomnights         float64\n",
      "numberofchildren-total_pax            int64\n",
      "numberofchildren+total_pax            int64\n",
      "numberofchildren*total_pax            int64\n",
      "numberofchildren/total_pax          float64\n",
      "roomnights-numberofadults             int64\n",
      "roomnights+numberofadults             int64\n",
      "roomnights*numberofadults             int64\n",
      "roomnights/numberofadults           float64\n",
      "roomnights-numberofchildren           int64\n",
      "roomnights+numberofchildren           int64\n",
      "roomnights*numberofchildren           int64\n",
      "roomnights/numberofchildren         float64\n",
      "roomnights-total_pax                  int64\n",
      "roomnights+total_pax                  int64\n",
      "roomnights*total_pax                  int64\n",
      "roomnights/total_pax                float64\n",
      "total_pax-numberofadults              int64\n",
      "total_pax+numberofadults              int64\n",
      "total_pax*numberofadults              int64\n",
      "total_pax/numberofadults            float64\n",
      "total_pax-numberofchildren            int64\n",
      "total_pax+numberofchildren            int64\n",
      "total_pax*numberofchildren            int64\n",
      "total_pax/numberofchildren          float64\n",
      "total_pax-roomnights                  int64\n",
      "total_pax+roomnights                  int64\n",
      "total_pax*roomnights                  int64\n",
      "total_pax/roomnights                float64\n",
      "dtype: object\n"
     ]
    }
   ],
   "source": [
    "with pd.option_context('display.max_rows', None, 'display.max_columns', None):  # more options can be specified also\n",
    "    print(train.dtypes)"
   ]
  },
  {
   "cell_type": "code",
   "execution_count": null,
   "metadata": {},
   "outputs": [],
   "source": []
  }
 ],
 "metadata": {
  "kernelspec": {
   "display_name": "Python 3",
   "language": "python",
   "name": "python3"
  },
  "language_info": {
   "codemirror_mode": {
    "name": "ipython",
    "version": 3
   },
   "file_extension": ".py",
   "mimetype": "text/x-python",
   "name": "python",
   "nbconvert_exporter": "python",
   "pygments_lexer": "ipython3",
   "version": "3.7.1"
  }
 },
 "nbformat": 4,
 "nbformat_minor": 2
}
